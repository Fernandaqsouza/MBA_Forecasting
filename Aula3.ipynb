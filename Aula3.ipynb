{
 "cells": [
  {
   "cell_type": "markdown",
   "id": "b459f2a2-b3ee-4c36-941e-39d5bac9d64b",
   "metadata": {},
   "source": [
    "## **Exercício 01**\n",
    "\n",
    "Considerando as séries temporais co2, copper (*world consumption*) e cancer (disponíveis no statesmodel), avalie:\n",
    "\n",
    "**a)** A série é estacionária? Possui tendência? Possui sazonalidade?\n",
    "\n",
    "**b)** Após a realização de uma diferenciação, a série se torna estacionária?\n"
   ]
  },
  {
   "cell_type": "code",
   "execution_count": null,
   "id": "6dd89117-712c-43cb-b1df-a6b68382ed97",
   "metadata": {},
   "outputs": [],
   "source": []
  }
 ],
 "metadata": {
  "kernelspec": {
   "display_name": "Python 3 (ipykernel)",
   "language": "python",
   "name": "python3"
  },
  "language_info": {
   "codemirror_mode": {
    "name": "ipython",
    "version": 3
   },
   "file_extension": ".py",
   "mimetype": "text/x-python",
   "name": "python",
   "nbconvert_exporter": "python",
   "pygments_lexer": "ipython3",
   "version": "3.9.12"
  }
 },
 "nbformat": 4,
 "nbformat_minor": 5
}
