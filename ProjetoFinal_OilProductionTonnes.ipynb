{
 "cells": [
  {
   "cell_type": "markdown",
   "id": "429a0e0e-f7a8-4986-85a8-a0b623ac2ae5",
   "metadata": {},
   "source": [
    "# Oil Production Tonnes\n",
    "\n",
    "Projeto final da disciplina **Forecasting**\n",
    "\n",
    "**Aluna:** Fernanda de Queiroz Souza\n",
    "\n",
    "*Fonte: https://github.com/Eraylson/series_temporais*"
   ]
  },
  {
   "cell_type": "markdown",
   "id": "48f9ec6b-92a1-4de9-8df0-ee25df84e15d",
   "metadata": {},
   "source": [
    "## Bibliotecas"
   ]
  },
  {
   "cell_type": "code",
   "execution_count": null,
   "id": "5d77b9f7-d903-4ba0-82e9-f21969f83e7d",
   "metadata": {},
   "outputs": [],
   "source": [
    "#!pip install pmdarima"
   ]
  },
  {
   "cell_type": "code",
   "execution_count": 1,
   "id": "1b94cebb-74c3-4f31-aabc-10ab08fc23be",
   "metadata": {
    "tags": []
   },
   "outputs": [],
   "source": [
    "import pandas as pd\n",
    "import numpy as np\n",
    "\n",
    "import statsmodels.api as sm\n",
    "import statsmodels.tsa.api as tsa\n",
    "from statsmodels.graphics.tsaplots import plot_acf, plot_pacf\n",
    "\n",
    "import matplotlib.pyplot as plt\n",
    "from matplotlib.pylab import rcParams\n",
    "\n",
    "import pmdarima as pm\n",
    "from pmdarima import auto_arima\n",
    "\n",
    "import os\n",
    "\n",
    "import datetime\n",
    "from datetime import datetime, date, time, timedelta\n",
    "\n",
    "import statsmodels.api as sm\n",
    "import statsmodels.tsa.api as tsa\n",
    "from statsmodels.tsa.arima.model import ARIMA\n",
    "from statsmodels.tsa.stattools import adfuller, kpss\n",
    "\n",
    "import sklearn\n",
    "from sklearn.metrics import mean_absolute_error, mean_squared_error, r2_score, make_scorer\n",
    "from sklearn.svm import SVR\n",
    "from sklearn.model_selection import train_test_split, StratifiedKFold, RandomizedSearchCV"
   ]
  },
  {
   "cell_type": "code",
   "execution_count": 2,
   "id": "5de9e183-4e8e-409a-b30d-d954c7b6f8d2",
   "metadata": {},
   "outputs": [],
   "source": [
    "import  warnings \n",
    "warnings.simplefilter('ignore')"
   ]
  },
  {
   "cell_type": "code",
   "execution_count": 3,
   "id": "16e2d163-0427-4008-96ec-6f1c059468fc",
   "metadata": {},
   "outputs": [],
   "source": [
    "# Configurando tamanho das imagens\n",
    "rcParams['figure.figsize'] = 15, 6"
   ]
  },
  {
   "cell_type": "markdown",
   "id": "eb916c0e-a886-4a1d-a67e-26cbfaf4d72f",
   "metadata": {},
   "source": [
    "## Leitura dos dados"
   ]
  },
  {
   "cell_type": "code",
   "execution_count": 4,
   "id": "d74b24d2-be94-4a8f-9677-0e7599b50f93",
   "metadata": {},
   "outputs": [
    {
     "data": {
      "text/plain": [
       "'C:\\\\Users\\\\Fernanda.Souza\\\\OneDrive - Unilever\\\\Documents\\\\Jupyter\\\\MBA\\\\MBA_Forecasting'"
      ]
     },
     "execution_count": 4,
     "metadata": {},
     "output_type": "execute_result"
    }
   ],
   "source": [
    "original_path = os.getcwd()\n",
    "original_path"
   ]
  },
  {
   "cell_type": "code",
   "execution_count": 5,
   "id": "84f98ecd-ec73-4b87-9f3a-410dbe668e2d",
   "metadata": {},
   "outputs": [],
   "source": [
    "os.chdir('C:/Users/Fernanda.Souza/OneDrive - Unilever/Documents/Jupyter/MBA/MBA_Forecasting/ProjetoFinal')"
   ]
  },
  {
   "cell_type": "code",
   "execution_count": 6,
   "id": "d29c6968-8f0b-4bbd-9c29-32f034fddb01",
   "metadata": {},
   "outputs": [],
   "source": [
    "df = pd.read_excel('oil-production-tonnes.xls')"
   ]
  },
  {
   "cell_type": "markdown",
   "id": "6a60873d-c640-48ed-8567-c1c17617b172",
   "metadata": {},
   "source": [
    "## Análise dos dados"
   ]
  },
  {
   "cell_type": "code",
   "execution_count": 7,
   "id": "54e9cfda-899f-49d2-ae17-ba0ecc4a3bb3",
   "metadata": {},
   "outputs": [
    {
     "data": {
      "text/html": [
       "<div>\n",
       "<style scoped>\n",
       "    .dataframe tbody tr th:only-of-type {\n",
       "        vertical-align: middle;\n",
       "    }\n",
       "\n",
       "    .dataframe tbody tr th {\n",
       "        vertical-align: top;\n",
       "    }\n",
       "\n",
       "    .dataframe thead th {\n",
       "        text-align: right;\n",
       "    }\n",
       "</style>\n",
       "<table border=\"1\" class=\"dataframe\">\n",
       "  <thead>\n",
       "    <tr style=\"text-align: right;\">\n",
       "      <th></th>\n",
       "      <th>Year</th>\n",
       "      <th>Million Tones</th>\n",
       "    </tr>\n",
       "  </thead>\n",
       "  <tbody>\n",
       "    <tr>\n",
       "      <th>0</th>\n",
       "      <td>1965-01-01</td>\n",
       "      <td>5.033297</td>\n",
       "    </tr>\n",
       "    <tr>\n",
       "      <th>1</th>\n",
       "      <td>1966-01-01</td>\n",
       "      <td>6.147396</td>\n",
       "    </tr>\n",
       "    <tr>\n",
       "      <th>2</th>\n",
       "      <td>1967-01-01</td>\n",
       "      <td>7.738966</td>\n",
       "    </tr>\n",
       "    <tr>\n",
       "      <th>3</th>\n",
       "      <td>1968-01-01</td>\n",
       "      <td>8.504936</td>\n",
       "    </tr>\n",
       "    <tr>\n",
       "      <th>4</th>\n",
       "      <td>1969-01-01</td>\n",
       "      <td>9.277483</td>\n",
       "    </tr>\n",
       "    <tr>\n",
       "      <th>5</th>\n",
       "      <td>1970-01-01</td>\n",
       "      <td>8.800012</td>\n",
       "    </tr>\n",
       "    <tr>\n",
       "      <th>6</th>\n",
       "      <td>1971-01-01</td>\n",
       "      <td>9.202844</td>\n",
       "    </tr>\n",
       "    <tr>\n",
       "      <th>7</th>\n",
       "      <td>1972-01-01</td>\n",
       "      <td>9.015267</td>\n",
       "    </tr>\n",
       "    <tr>\n",
       "      <th>8</th>\n",
       "      <td>1973-01-01</td>\n",
       "      <td>9.149792</td>\n",
       "    </tr>\n",
       "    <tr>\n",
       "      <th>9</th>\n",
       "      <td>1974-01-01</td>\n",
       "      <td>9.521158</td>\n",
       "    </tr>\n",
       "    <tr>\n",
       "      <th>10</th>\n",
       "      <td>1975-01-01</td>\n",
       "      <td>9.323862</td>\n",
       "    </tr>\n",
       "    <tr>\n",
       "      <th>11</th>\n",
       "      <td>1976-01-01</td>\n",
       "      <td>9.083419</td>\n",
       "    </tr>\n",
       "    <tr>\n",
       "      <th>12</th>\n",
       "      <td>1977-01-01</td>\n",
       "      <td>8.740286</td>\n",
       "    </tr>\n",
       "    <tr>\n",
       "      <th>13</th>\n",
       "      <td>1978-01-01</td>\n",
       "      <td>8.687234</td>\n",
       "    </tr>\n",
       "    <tr>\n",
       "      <th>14</th>\n",
       "      <td>1979-01-01</td>\n",
       "      <td>9.005548</td>\n",
       "    </tr>\n",
       "    <tr>\n",
       "      <th>15</th>\n",
       "      <td>1980-01-01</td>\n",
       "      <td>9.881384</td>\n",
       "    </tr>\n",
       "    <tr>\n",
       "      <th>16</th>\n",
       "      <td>1981-01-01</td>\n",
       "      <td>11.530473</td>\n",
       "    </tr>\n",
       "    <tr>\n",
       "      <th>17</th>\n",
       "      <td>1982-01-01</td>\n",
       "      <td>14.055398</td>\n",
       "    </tr>\n",
       "    <tr>\n",
       "      <th>18</th>\n",
       "      <td>1983-01-01</td>\n",
       "      <td>17.837026</td>\n",
       "    </tr>\n",
       "    <tr>\n",
       "      <th>19</th>\n",
       "      <td>1984-01-01</td>\n",
       "      <td>24.917893</td>\n",
       "    </tr>\n",
       "    <tr>\n",
       "      <th>20</th>\n",
       "      <td>1985-01-01</td>\n",
       "      <td>29.422190</td>\n",
       "    </tr>\n",
       "    <tr>\n",
       "      <th>21</th>\n",
       "      <td>1986-01-01</td>\n",
       "      <td>30.963913</td>\n",
       "    </tr>\n",
       "    <tr>\n",
       "      <th>22</th>\n",
       "      <td>1987-01-01</td>\n",
       "      <td>30.776496</td>\n",
       "    </tr>\n",
       "    <tr>\n",
       "      <th>23</th>\n",
       "      <td>1988-01-01</td>\n",
       "      <td>30.091187</td>\n",
       "    </tr>\n",
       "    <tr>\n",
       "      <th>24</th>\n",
       "      <td>1989-01-01</td>\n",
       "      <td>32.152651</td>\n",
       "    </tr>\n",
       "    <tr>\n",
       "      <th>25</th>\n",
       "      <td>1990-01-01</td>\n",
       "      <td>34.094000</td>\n",
       "    </tr>\n",
       "    <tr>\n",
       "      <th>26</th>\n",
       "      <td>1991-01-01</td>\n",
       "      <td>33.701047</td>\n",
       "    </tr>\n",
       "    <tr>\n",
       "      <th>27</th>\n",
       "      <td>1992-01-01</td>\n",
       "      <td>34.170429</td>\n",
       "    </tr>\n",
       "    <tr>\n",
       "      <th>28</th>\n",
       "      <td>1993-01-01</td>\n",
       "      <td>34.778456</td>\n",
       "    </tr>\n",
       "    <tr>\n",
       "      <th>29</th>\n",
       "      <td>1994-01-01</td>\n",
       "      <td>36.240695</td>\n",
       "    </tr>\n",
       "    <tr>\n",
       "      <th>30</th>\n",
       "      <td>1995-01-01</td>\n",
       "      <td>37.567003</td>\n",
       "    </tr>\n",
       "    <tr>\n",
       "      <th>31</th>\n",
       "      <td>1996-01-01</td>\n",
       "      <td>42.447811</td>\n",
       "    </tr>\n",
       "    <tr>\n",
       "      <th>32</th>\n",
       "      <td>1997-01-01</td>\n",
       "      <td>45.503265</td>\n",
       "    </tr>\n",
       "    <tr>\n",
       "      <th>33</th>\n",
       "      <td>1998-01-01</td>\n",
       "      <td>52.622155</td>\n",
       "    </tr>\n",
       "    <tr>\n",
       "      <th>34</th>\n",
       "      <td>1999-01-01</td>\n",
       "      <td>59.479370</td>\n",
       "    </tr>\n",
       "    <tr>\n",
       "      <th>35</th>\n",
       "      <td>2000-01-01</td>\n",
       "      <td>66.891246</td>\n",
       "    </tr>\n",
       "    <tr>\n",
       "      <th>36</th>\n",
       "      <td>2001-01-01</td>\n",
       "      <td>70.033871</td>\n",
       "    </tr>\n",
       "    <tr>\n",
       "      <th>37</th>\n",
       "      <td>2002-01-01</td>\n",
       "      <td>78.422303</td>\n",
       "    </tr>\n",
       "    <tr>\n",
       "      <th>38</th>\n",
       "      <td>2003-01-01</td>\n",
       "      <td>81.058067</td>\n",
       "    </tr>\n",
       "    <tr>\n",
       "      <th>39</th>\n",
       "      <td>2004-01-01</td>\n",
       "      <td>80.563939</td>\n",
       "    </tr>\n",
       "    <tr>\n",
       "      <th>40</th>\n",
       "      <td>2005-01-01</td>\n",
       "      <td>88.719863</td>\n",
       "    </tr>\n",
       "    <tr>\n",
       "      <th>41</th>\n",
       "      <td>2006-01-01</td>\n",
       "      <td>93.670600</td>\n",
       "    </tr>\n",
       "    <tr>\n",
       "      <th>42</th>\n",
       "      <td>2007-01-01</td>\n",
       "      <td>95.187961</td>\n",
       "    </tr>\n",
       "    <tr>\n",
       "      <th>43</th>\n",
       "      <td>2008-01-01</td>\n",
       "      <td>98.769011</td>\n",
       "    </tr>\n",
       "    <tr>\n",
       "      <th>44</th>\n",
       "      <td>2009-01-01</td>\n",
       "      <td>105.606944</td>\n",
       "    </tr>\n",
       "    <tr>\n",
       "      <th>45</th>\n",
       "      <td>2010-01-01</td>\n",
       "      <td>111.377764</td>\n",
       "    </tr>\n",
       "    <tr>\n",
       "      <th>46</th>\n",
       "      <td>2011-01-01</td>\n",
       "      <td>114.212252</td>\n",
       "    </tr>\n",
       "    <tr>\n",
       "      <th>47</th>\n",
       "      <td>2012-01-01</td>\n",
       "      <td>112.186778</td>\n",
       "    </tr>\n",
       "    <tr>\n",
       "      <th>48</th>\n",
       "      <td>2013-01-01</td>\n",
       "      <td>109.940770</td>\n",
       "    </tr>\n",
       "  </tbody>\n",
       "</table>\n",
       "</div>"
      ],
      "text/plain": [
       "         Year  Million Tones\n",
       "0  1965-01-01       5.033297\n",
       "1  1966-01-01       6.147396\n",
       "2  1967-01-01       7.738966\n",
       "3  1968-01-01       8.504936\n",
       "4  1969-01-01       9.277483\n",
       "5  1970-01-01       8.800012\n",
       "6  1971-01-01       9.202844\n",
       "7  1972-01-01       9.015267\n",
       "8  1973-01-01       9.149792\n",
       "9  1974-01-01       9.521158\n",
       "10 1975-01-01       9.323862\n",
       "11 1976-01-01       9.083419\n",
       "12 1977-01-01       8.740286\n",
       "13 1978-01-01       8.687234\n",
       "14 1979-01-01       9.005548\n",
       "15 1980-01-01       9.881384\n",
       "16 1981-01-01      11.530473\n",
       "17 1982-01-01      14.055398\n",
       "18 1983-01-01      17.837026\n",
       "19 1984-01-01      24.917893\n",
       "20 1985-01-01      29.422190\n",
       "21 1986-01-01      30.963913\n",
       "22 1987-01-01      30.776496\n",
       "23 1988-01-01      30.091187\n",
       "24 1989-01-01      32.152651\n",
       "25 1990-01-01      34.094000\n",
       "26 1991-01-01      33.701047\n",
       "27 1992-01-01      34.170429\n",
       "28 1993-01-01      34.778456\n",
       "29 1994-01-01      36.240695\n",
       "30 1995-01-01      37.567003\n",
       "31 1996-01-01      42.447811\n",
       "32 1997-01-01      45.503265\n",
       "33 1998-01-01      52.622155\n",
       "34 1999-01-01      59.479370\n",
       "35 2000-01-01      66.891246\n",
       "36 2001-01-01      70.033871\n",
       "37 2002-01-01      78.422303\n",
       "38 2003-01-01      81.058067\n",
       "39 2004-01-01      80.563939\n",
       "40 2005-01-01      88.719863\n",
       "41 2006-01-01      93.670600\n",
       "42 2007-01-01      95.187961\n",
       "43 2008-01-01      98.769011\n",
       "44 2009-01-01     105.606944\n",
       "45 2010-01-01     111.377764\n",
       "46 2011-01-01     114.212252\n",
       "47 2012-01-01     112.186778\n",
       "48 2013-01-01     109.940770"
      ]
     },
     "execution_count": 7,
     "metadata": {},
     "output_type": "execute_result"
    }
   ],
   "source": [
    "df"
   ]
  },
  {
   "cell_type": "code",
   "execution_count": 8,
   "id": "7d965f99-56d5-4b2e-a425-193533bc6d6b",
   "metadata": {},
   "outputs": [
    {
     "name": "stdout",
     "output_type": "stream",
     "text": [
      "<class 'pandas.core.frame.DataFrame'>\n",
      "RangeIndex: 49 entries, 0 to 48\n",
      "Data columns (total 2 columns):\n",
      " #   Column         Non-Null Count  Dtype         \n",
      "---  ------         --------------  -----         \n",
      " 0   Year           49 non-null     datetime64[ns]\n",
      " 1   Million Tones  49 non-null     float64       \n",
      "dtypes: datetime64[ns](1), float64(1)\n",
      "memory usage: 912.0 bytes\n"
     ]
    }
   ],
   "source": [
    "df.info()"
   ]
  },
  {
   "cell_type": "code",
   "execution_count": 9,
   "id": "78bbc667-91c7-4c5e-95c5-999729039f2e",
   "metadata": {},
   "outputs": [],
   "source": [
    "# Renomeando as colunas para serem mais intuitivas\n",
    "df = df.rename(columns = {'Year': 'ano', \n",
    "                          'Million Tones': 'milhoes_tons', \n",
    "                         })"
   ]
  },
  {
   "cell_type": "code",
   "execution_count": 10,
   "id": "def525fa-4560-4f68-8b68-00d1e5924d87",
   "metadata": {},
   "outputs": [
    {
     "data": {
      "text/html": [
       "<div>\n",
       "<style scoped>\n",
       "    .dataframe tbody tr th:only-of-type {\n",
       "        vertical-align: middle;\n",
       "    }\n",
       "\n",
       "    .dataframe tbody tr th {\n",
       "        vertical-align: top;\n",
       "    }\n",
       "\n",
       "    .dataframe thead th {\n",
       "        text-align: right;\n",
       "    }\n",
       "</style>\n",
       "<table border=\"1\" class=\"dataframe\">\n",
       "  <thead>\n",
       "    <tr style=\"text-align: right;\">\n",
       "      <th></th>\n",
       "      <th>ano</th>\n",
       "      <th>milhoes_tons</th>\n",
       "    </tr>\n",
       "  </thead>\n",
       "  <tbody>\n",
       "    <tr>\n",
       "      <th>0</th>\n",
       "      <td>1965</td>\n",
       "      <td>5.033297</td>\n",
       "    </tr>\n",
       "    <tr>\n",
       "      <th>1</th>\n",
       "      <td>1966</td>\n",
       "      <td>6.147396</td>\n",
       "    </tr>\n",
       "    <tr>\n",
       "      <th>2</th>\n",
       "      <td>1967</td>\n",
       "      <td>7.738966</td>\n",
       "    </tr>\n",
       "    <tr>\n",
       "      <th>3</th>\n",
       "      <td>1968</td>\n",
       "      <td>8.504936</td>\n",
       "    </tr>\n",
       "    <tr>\n",
       "      <th>4</th>\n",
       "      <td>1969</td>\n",
       "      <td>9.277483</td>\n",
       "    </tr>\n",
       "    <tr>\n",
       "      <th>5</th>\n",
       "      <td>1970</td>\n",
       "      <td>8.800012</td>\n",
       "    </tr>\n",
       "    <tr>\n",
       "      <th>6</th>\n",
       "      <td>1971</td>\n",
       "      <td>9.202844</td>\n",
       "    </tr>\n",
       "    <tr>\n",
       "      <th>7</th>\n",
       "      <td>1972</td>\n",
       "      <td>9.015267</td>\n",
       "    </tr>\n",
       "    <tr>\n",
       "      <th>8</th>\n",
       "      <td>1973</td>\n",
       "      <td>9.149792</td>\n",
       "    </tr>\n",
       "    <tr>\n",
       "      <th>9</th>\n",
       "      <td>1974</td>\n",
       "      <td>9.521158</td>\n",
       "    </tr>\n",
       "    <tr>\n",
       "      <th>10</th>\n",
       "      <td>1975</td>\n",
       "      <td>9.323862</td>\n",
       "    </tr>\n",
       "    <tr>\n",
       "      <th>11</th>\n",
       "      <td>1976</td>\n",
       "      <td>9.083419</td>\n",
       "    </tr>\n",
       "    <tr>\n",
       "      <th>12</th>\n",
       "      <td>1977</td>\n",
       "      <td>8.740286</td>\n",
       "    </tr>\n",
       "    <tr>\n",
       "      <th>13</th>\n",
       "      <td>1978</td>\n",
       "      <td>8.687234</td>\n",
       "    </tr>\n",
       "    <tr>\n",
       "      <th>14</th>\n",
       "      <td>1979</td>\n",
       "      <td>9.005548</td>\n",
       "    </tr>\n",
       "    <tr>\n",
       "      <th>15</th>\n",
       "      <td>1980</td>\n",
       "      <td>9.881384</td>\n",
       "    </tr>\n",
       "    <tr>\n",
       "      <th>16</th>\n",
       "      <td>1981</td>\n",
       "      <td>11.530473</td>\n",
       "    </tr>\n",
       "    <tr>\n",
       "      <th>17</th>\n",
       "      <td>1982</td>\n",
       "      <td>14.055398</td>\n",
       "    </tr>\n",
       "    <tr>\n",
       "      <th>18</th>\n",
       "      <td>1983</td>\n",
       "      <td>17.837026</td>\n",
       "    </tr>\n",
       "    <tr>\n",
       "      <th>19</th>\n",
       "      <td>1984</td>\n",
       "      <td>24.917893</td>\n",
       "    </tr>\n",
       "    <tr>\n",
       "      <th>20</th>\n",
       "      <td>1985</td>\n",
       "      <td>29.422190</td>\n",
       "    </tr>\n",
       "    <tr>\n",
       "      <th>21</th>\n",
       "      <td>1986</td>\n",
       "      <td>30.963913</td>\n",
       "    </tr>\n",
       "    <tr>\n",
       "      <th>22</th>\n",
       "      <td>1987</td>\n",
       "      <td>30.776496</td>\n",
       "    </tr>\n",
       "    <tr>\n",
       "      <th>23</th>\n",
       "      <td>1988</td>\n",
       "      <td>30.091187</td>\n",
       "    </tr>\n",
       "    <tr>\n",
       "      <th>24</th>\n",
       "      <td>1989</td>\n",
       "      <td>32.152651</td>\n",
       "    </tr>\n",
       "    <tr>\n",
       "      <th>25</th>\n",
       "      <td>1990</td>\n",
       "      <td>34.094000</td>\n",
       "    </tr>\n",
       "    <tr>\n",
       "      <th>26</th>\n",
       "      <td>1991</td>\n",
       "      <td>33.701047</td>\n",
       "    </tr>\n",
       "    <tr>\n",
       "      <th>27</th>\n",
       "      <td>1992</td>\n",
       "      <td>34.170429</td>\n",
       "    </tr>\n",
       "    <tr>\n",
       "      <th>28</th>\n",
       "      <td>1993</td>\n",
       "      <td>34.778456</td>\n",
       "    </tr>\n",
       "    <tr>\n",
       "      <th>29</th>\n",
       "      <td>1994</td>\n",
       "      <td>36.240695</td>\n",
       "    </tr>\n",
       "    <tr>\n",
       "      <th>30</th>\n",
       "      <td>1995</td>\n",
       "      <td>37.567003</td>\n",
       "    </tr>\n",
       "    <tr>\n",
       "      <th>31</th>\n",
       "      <td>1996</td>\n",
       "      <td>42.447811</td>\n",
       "    </tr>\n",
       "    <tr>\n",
       "      <th>32</th>\n",
       "      <td>1997</td>\n",
       "      <td>45.503265</td>\n",
       "    </tr>\n",
       "    <tr>\n",
       "      <th>33</th>\n",
       "      <td>1998</td>\n",
       "      <td>52.622155</td>\n",
       "    </tr>\n",
       "    <tr>\n",
       "      <th>34</th>\n",
       "      <td>1999</td>\n",
       "      <td>59.479370</td>\n",
       "    </tr>\n",
       "    <tr>\n",
       "      <th>35</th>\n",
       "      <td>2000</td>\n",
       "      <td>66.891246</td>\n",
       "    </tr>\n",
       "    <tr>\n",
       "      <th>36</th>\n",
       "      <td>2001</td>\n",
       "      <td>70.033871</td>\n",
       "    </tr>\n",
       "    <tr>\n",
       "      <th>37</th>\n",
       "      <td>2002</td>\n",
       "      <td>78.422303</td>\n",
       "    </tr>\n",
       "    <tr>\n",
       "      <th>38</th>\n",
       "      <td>2003</td>\n",
       "      <td>81.058067</td>\n",
       "    </tr>\n",
       "    <tr>\n",
       "      <th>39</th>\n",
       "      <td>2004</td>\n",
       "      <td>80.563939</td>\n",
       "    </tr>\n",
       "    <tr>\n",
       "      <th>40</th>\n",
       "      <td>2005</td>\n",
       "      <td>88.719863</td>\n",
       "    </tr>\n",
       "    <tr>\n",
       "      <th>41</th>\n",
       "      <td>2006</td>\n",
       "      <td>93.670600</td>\n",
       "    </tr>\n",
       "    <tr>\n",
       "      <th>42</th>\n",
       "      <td>2007</td>\n",
       "      <td>95.187961</td>\n",
       "    </tr>\n",
       "    <tr>\n",
       "      <th>43</th>\n",
       "      <td>2008</td>\n",
       "      <td>98.769011</td>\n",
       "    </tr>\n",
       "    <tr>\n",
       "      <th>44</th>\n",
       "      <td>2009</td>\n",
       "      <td>105.606944</td>\n",
       "    </tr>\n",
       "    <tr>\n",
       "      <th>45</th>\n",
       "      <td>2010</td>\n",
       "      <td>111.377764</td>\n",
       "    </tr>\n",
       "    <tr>\n",
       "      <th>46</th>\n",
       "      <td>2011</td>\n",
       "      <td>114.212252</td>\n",
       "    </tr>\n",
       "    <tr>\n",
       "      <th>47</th>\n",
       "      <td>2012</td>\n",
       "      <td>112.186778</td>\n",
       "    </tr>\n",
       "    <tr>\n",
       "      <th>48</th>\n",
       "      <td>2013</td>\n",
       "      <td>109.940770</td>\n",
       "    </tr>\n",
       "  </tbody>\n",
       "</table>\n",
       "</div>"
      ],
      "text/plain": [
       "     ano  milhoes_tons\n",
       "0   1965      5.033297\n",
       "1   1966      6.147396\n",
       "2   1967      7.738966\n",
       "3   1968      8.504936\n",
       "4   1969      9.277483\n",
       "5   1970      8.800012\n",
       "6   1971      9.202844\n",
       "7   1972      9.015267\n",
       "8   1973      9.149792\n",
       "9   1974      9.521158\n",
       "10  1975      9.323862\n",
       "11  1976      9.083419\n",
       "12  1977      8.740286\n",
       "13  1978      8.687234\n",
       "14  1979      9.005548\n",
       "15  1980      9.881384\n",
       "16  1981     11.530473\n",
       "17  1982     14.055398\n",
       "18  1983     17.837026\n",
       "19  1984     24.917893\n",
       "20  1985     29.422190\n",
       "21  1986     30.963913\n",
       "22  1987     30.776496\n",
       "23  1988     30.091187\n",
       "24  1989     32.152651\n",
       "25  1990     34.094000\n",
       "26  1991     33.701047\n",
       "27  1992     34.170429\n",
       "28  1993     34.778456\n",
       "29  1994     36.240695\n",
       "30  1995     37.567003\n",
       "31  1996     42.447811\n",
       "32  1997     45.503265\n",
       "33  1998     52.622155\n",
       "34  1999     59.479370\n",
       "35  2000     66.891246\n",
       "36  2001     70.033871\n",
       "37  2002     78.422303\n",
       "38  2003     81.058067\n",
       "39  2004     80.563939\n",
       "40  2005     88.719863\n",
       "41  2006     93.670600\n",
       "42  2007     95.187961\n",
       "43  2008     98.769011\n",
       "44  2009    105.606944\n",
       "45  2010    111.377764\n",
       "46  2011    114.212252\n",
       "47  2012    112.186778\n",
       "48  2013    109.940770"
      ]
     },
     "execution_count": 10,
     "metadata": {},
     "output_type": "execute_result"
    }
   ],
   "source": [
    "#Considerando apenas os anos da coluna de data\n",
    "df['ano'] = df['ano'].astype(str)\n",
    "df['ano'] = df['ano'].str[0:4]\n",
    "df"
   ]
  },
  {
   "cell_type": "code",
   "execution_count": 11,
   "id": "46d3f773-76d8-42e5-befa-174b32d6d30d",
   "metadata": {},
   "outputs": [],
   "source": [
    "#Definindo a coluna como inteiro\n",
    "df['ano'] = df['ano'].astype(int)"
   ]
  },
  {
   "cell_type": "code",
   "execution_count": 12,
   "id": "cd841547-1f20-49dd-ab09-0b079f9b5263",
   "metadata": {},
   "outputs": [
    {
     "data": {
      "text/html": [
       "<div>\n",
       "<style scoped>\n",
       "    .dataframe tbody tr th:only-of-type {\n",
       "        vertical-align: middle;\n",
       "    }\n",
       "\n",
       "    .dataframe tbody tr th {\n",
       "        vertical-align: top;\n",
       "    }\n",
       "\n",
       "    .dataframe thead th {\n",
       "        text-align: right;\n",
       "    }\n",
       "</style>\n",
       "<table border=\"1\" class=\"dataframe\">\n",
       "  <thead>\n",
       "    <tr style=\"text-align: right;\">\n",
       "      <th></th>\n",
       "      <th>milhoes_tons</th>\n",
       "    </tr>\n",
       "    <tr>\n",
       "      <th>ano</th>\n",
       "      <th></th>\n",
       "    </tr>\n",
       "  </thead>\n",
       "  <tbody>\n",
       "    <tr>\n",
       "      <th>1965</th>\n",
       "      <td>5.033297</td>\n",
       "    </tr>\n",
       "    <tr>\n",
       "      <th>1966</th>\n",
       "      <td>6.147396</td>\n",
       "    </tr>\n",
       "    <tr>\n",
       "      <th>1967</th>\n",
       "      <td>7.738966</td>\n",
       "    </tr>\n",
       "    <tr>\n",
       "      <th>1968</th>\n",
       "      <td>8.504936</td>\n",
       "    </tr>\n",
       "    <tr>\n",
       "      <th>1969</th>\n",
       "      <td>9.277483</td>\n",
       "    </tr>\n",
       "  </tbody>\n",
       "</table>\n",
       "</div>"
      ],
      "text/plain": [
       "      milhoes_tons\n",
       "ano               \n",
       "1965      5.033297\n",
       "1966      6.147396\n",
       "1967      7.738966\n",
       "1968      8.504936\n",
       "1969      9.277483"
      ]
     },
     "execution_count": 12,
     "metadata": {},
     "output_type": "execute_result"
    }
   ],
   "source": [
    "#Transformando a coluna \"ano\" em index para facilitar as avaliações posteriores da série \n",
    "df = df.set_index('ano')\n",
    "df.head()"
   ]
  },
  {
   "cell_type": "code",
   "execution_count": 13,
   "id": "3dafb4bb-87ad-495d-8ea5-3c325697f309",
   "metadata": {},
   "outputs": [
    {
     "data": {
      "text/html": [
       "<div>\n",
       "<style scoped>\n",
       "    .dataframe tbody tr th:only-of-type {\n",
       "        vertical-align: middle;\n",
       "    }\n",
       "\n",
       "    .dataframe tbody tr th {\n",
       "        vertical-align: top;\n",
       "    }\n",
       "\n",
       "    .dataframe thead th {\n",
       "        text-align: right;\n",
       "    }\n",
       "</style>\n",
       "<table border=\"1\" class=\"dataframe\">\n",
       "  <thead>\n",
       "    <tr style=\"text-align: right;\">\n",
       "      <th></th>\n",
       "      <th>milhoes_tons</th>\n",
       "    </tr>\n",
       "    <tr>\n",
       "      <th>ano</th>\n",
       "      <th></th>\n",
       "    </tr>\n",
       "  </thead>\n",
       "  <tbody>\n",
       "    <tr>\n",
       "      <th>2009</th>\n",
       "      <td>105.606944</td>\n",
       "    </tr>\n",
       "    <tr>\n",
       "      <th>2010</th>\n",
       "      <td>111.377764</td>\n",
       "    </tr>\n",
       "    <tr>\n",
       "      <th>2011</th>\n",
       "      <td>114.212252</td>\n",
       "    </tr>\n",
       "    <tr>\n",
       "      <th>2012</th>\n",
       "      <td>112.186778</td>\n",
       "    </tr>\n",
       "    <tr>\n",
       "      <th>2013</th>\n",
       "      <td>109.940770</td>\n",
       "    </tr>\n",
       "  </tbody>\n",
       "</table>\n",
       "</div>"
      ],
      "text/plain": [
       "      milhoes_tons\n",
       "ano               \n",
       "2009    105.606944\n",
       "2010    111.377764\n",
       "2011    114.212252\n",
       "2012    112.186778\n",
       "2013    109.940770"
      ]
     },
     "execution_count": 13,
     "metadata": {},
     "output_type": "execute_result"
    }
   ],
   "source": [
    "df.tail()"
   ]
  },
  {
   "cell_type": "markdown",
   "id": "bcbc36d9-1a2a-41b5-8a04-a3a903c616a0",
   "metadata": {},
   "source": [
    "Menor valor do indice = 1965 (posição 0)\n",
    "\n",
    "Maior valor do indice = 2013 (posição 48)"
   ]
  },
  {
   "cell_type": "code",
   "execution_count": 14,
   "id": "77ef1af0-4001-40b0-a759-7524d57518ee",
   "metadata": {},
   "outputs": [
    {
     "name": "stdout",
     "output_type": "stream",
     "text": [
      "Valores faltantes: False!\n"
     ]
    }
   ],
   "source": [
    "# Conferindo se realmente não tem nenhum dado faltante na série\n",
    "print(f'Valores faltantes: {df.isnull().values.any()}!')"
   ]
  },
  {
   "cell_type": "markdown",
   "id": "a0e94c08-ef45-4d64-ab15-19b6d1d8545a",
   "metadata": {},
   "source": [
    "A série possui uma coluna correspondente ao ano de produção, que foi transformada em index para facilitar as avaliações da série que serão feitas nas sessões seguintes, e uma coluna correspondente a produção em milhões de toneladas de oléo. Possui 49 linhas, ou seja, 49 entradas de dados com nenhum dado faltante. "
   ]
  },
  {
   "cell_type": "markdown",
   "id": "3e5399b1-e886-4163-8539-4455eda2020e",
   "metadata": {},
   "source": [
    "## Análise da série"
   ]
  },
  {
   "cell_type": "markdown",
   "id": "86405d09-e2f4-4244-a73e-d4ca2b4b7294",
   "metadata": {},
   "source": [
    "**Avaliação dos números**"
   ]
  },
  {
   "cell_type": "code",
   "execution_count": 15,
   "id": "dfafcf65-fb61-431d-af73-d8a07ccdaac8",
   "metadata": {},
   "outputs": [
    {
     "data": {
      "text/html": [
       "<div>\n",
       "<style scoped>\n",
       "    .dataframe tbody tr th:only-of-type {\n",
       "        vertical-align: middle;\n",
       "    }\n",
       "\n",
       "    .dataframe tbody tr th {\n",
       "        vertical-align: top;\n",
       "    }\n",
       "\n",
       "    .dataframe thead th {\n",
       "        text-align: right;\n",
       "    }\n",
       "</style>\n",
       "<table border=\"1\" class=\"dataframe\">\n",
       "  <thead>\n",
       "    <tr style=\"text-align: right;\">\n",
       "      <th></th>\n",
       "      <th>milhoes_tons</th>\n",
       "    </tr>\n",
       "  </thead>\n",
       "  <tbody>\n",
       "    <tr>\n",
       "      <th>count</th>\n",
       "      <td>49.000000</td>\n",
       "    </tr>\n",
       "    <tr>\n",
       "      <th>mean</th>\n",
       "      <td>42.369504</td>\n",
       "    </tr>\n",
       "    <tr>\n",
       "      <th>std</th>\n",
       "      <td>35.975151</td>\n",
       "    </tr>\n",
       "    <tr>\n",
       "      <th>min</th>\n",
       "      <td>5.033297</td>\n",
       "    </tr>\n",
       "    <tr>\n",
       "      <th>25%</th>\n",
       "      <td>9.277483</td>\n",
       "    </tr>\n",
       "    <tr>\n",
       "      <th>50%</th>\n",
       "      <td>32.152651</td>\n",
       "    </tr>\n",
       "    <tr>\n",
       "      <th>75%</th>\n",
       "      <td>70.033871</td>\n",
       "    </tr>\n",
       "    <tr>\n",
       "      <th>max</th>\n",
       "      <td>114.212252</td>\n",
       "    </tr>\n",
       "  </tbody>\n",
       "</table>\n",
       "</div>"
      ],
      "text/plain": [
       "       milhoes_tons\n",
       "count     49.000000\n",
       "mean      42.369504\n",
       "std       35.975151\n",
       "min        5.033297\n",
       "25%        9.277483\n",
       "50%       32.152651\n",
       "75%       70.033871\n",
       "max      114.212252"
      ]
     },
     "execution_count": 15,
     "metadata": {},
     "output_type": "execute_result"
    }
   ],
   "source": [
    "df.describe()"
   ]
  },
  {
   "cell_type": "markdown",
   "id": "dc5af35c-c8d2-4fb5-b486-67815ab0543c",
   "metadata": {},
   "source": [
    "**Plotagem da série**"
   ]
  },
  {
   "cell_type": "code",
   "execution_count": 16,
   "id": "7cfffc88-8a0f-4930-8434-3dead46ddc73",
   "metadata": {},
   "outputs": [
    {
     "data": {
      "text/plain": [
       "[<matplotlib.lines.Line2D at 0x248a12e1490>]"
      ]
     },
     "execution_count": 16,
     "metadata": {},
     "output_type": "execute_result"
    },
    {
     "data": {
      "image/png": "[encoded data removed]",
      "text/plain": [
       "<Figure size 1080x432 with 1 Axes>"
      ]
     },
     "metadata": {
      "needs_background": "light"
     },
     "output_type": "display_data"
    }
   ],
   "source": [
    "plt.title('Produção de Oleo (Mtons)')\n",
    "plt.xlabel(\"Ano\")\n",
    "plt.ylabel(\"Mtons\")\n",
    "plt.plot(df['milhoes_tons'])"
   ]
  },
  {
   "cell_type": "markdown",
   "id": "8e77164d-2b29-46cf-9d81-61b5d46535fc",
   "metadata": {},
   "source": [
    "**Decomposição da tendencia, sazonalidade e resíduo da série**"
   ]
  },
  {
   "cell_type": "code",
   "execution_count": 17,
   "id": "b4941ab0-ccc9-41ab-b84f-fe027f8ce5c7",
   "metadata": {},
   "outputs": [
    {
     "data": {
      "image/png": "[encoded data removed]",
      "text/plain": [
       "<Figure size 1080x432 with 4 Axes>"
      ]
     },
     "metadata": {
      "needs_background": "light"
     },
     "output_type": "display_data"
    }
   ],
   "source": [
    "df_decomp = tsa.seasonal_decompose(df['milhoes_tons'], period=12)\n",
    "df_decomp.plot();"
   ]
  },
  {
   "cell_type": "markdown",
   "id": "e504e596-2fe0-4ade-9dd7-d4e18df6d11a",
   "metadata": {},
   "source": [
    "Podemos observar:\n",
    "1. Tendencia positiva (crescente)\n",
    "2. A série não possue sazonalidade significativa, pois o gráfico está variando em torno de zero\n",
    "3. O resíduo possue características de ruído branco (desvio padrão pequeno e variando em torno de zero)"
   ]
  },
  {
   "cell_type": "markdown",
   "id": "51f95d6e-1e3b-4efa-b765-de0688851588",
   "metadata": {},
   "source": [
    "**Média e desvio padrão da série**"
   ]
  },
  {
   "cell_type": "code",
   "execution_count": 18,
   "id": "bfdc9047-b401-41c9-868e-5aaf85877987",
   "metadata": {},
   "outputs": [
    {
     "data": {
      "image/png": "[encoded data removed]",
      "text/plain": [
       "<Figure size 504x360 with 1 Axes>"
      ]
     },
     "metadata": {
      "needs_background": "light"
     },
     "output_type": "display_data"
    }
   ],
   "source": [
    "rolmean12 = df.rolling(window = 12).mean()\n",
    "rolstd12 = df.rolling(window = 12).std()\n",
    "\n",
    "plt.figure(figsize=(7, 5))\n",
    "actual = plt.plot(df, color='black', label='Time Series', alpha=0.7)\n",
    "rm_12 = plt.plot(rolmean12, color='red', label='RM_12', linestyle='dotted')#, 'bo') \n",
    "std_12 = plt.plot(rolstd12, color='blue', label='STD_12', linestyle='dashed')#, fmt='2')\n",
    "plt.legend(loc='best')\n",
    "plt.xlabel(\"Time\")\n",
    "plt.ylabel(\"Target\")\n",
    "plt.show()"
   ]
  },
  {
   "cell_type": "markdown",
   "id": "2bc32d1c-c2b5-4edf-8c19-344f7925b9af",
   "metadata": {},
   "source": [
    "**Função de Autocorrelação (FAC) e Função de Autocorrelação Parcial (FACP)**"
   ]
  },
  {
   "cell_type": "code",
   "execution_count": 19,
   "id": "29f4731a-a56e-48c8-9013-d93d2b6980b6",
   "metadata": {},
   "outputs": [
    {
     "data": {
      "image/png": "[encoded data removed]",
      "text/plain": [
       "<Figure size 1080x432 with 1 Axes>"
      ]
     },
     "metadata": {
      "needs_background": "light"
     },
     "output_type": "display_data"
    },
    {
     "data": {
      "image/png": "[encoded data removed]",
      "text/plain": [
       "<Figure size 1080x432 with 1 Axes>"
      ]
     },
     "metadata": {
      "needs_background": "light"
     },
     "output_type": "display_data"
    }
   ],
   "source": [
    "plot_acf(df, lags=20)\n",
    "plot_pacf(df, lags=20)\n",
    "plt.show()"
   ]
  },
  {
   "cell_type": "markdown",
   "id": "f50abfc5-7525-450c-8fdc-400bc36a02a8",
   "metadata": {},
   "source": [
    "Podemos observar:\n",
    "1. A função de autocorrelação (FAC) tem decaimento exponencial\n",
    "2. A função de autocorrelação parcial (FACP) tem corte brusco após leg = 1\n",
    "\n",
    "Ou seja, a série tem caracteristicas para utilizarmos um Modelo Auto regressivo (AR)"
   ]
  },
  {
   "cell_type": "markdown",
   "id": "49efcb0e-fc43-475d-a475-a0e4b92aa9e8",
   "metadata": {},
   "source": [
    "**Teste de estacionariedade**"
   ]
  },
  {
   "cell_type": "code",
   "execution_count": 20,
   "id": "1a0a1c6b-6fe7-403c-87b8-8075887ce665",
   "metadata": {},
   "outputs": [],
   "source": [
    "def teste_df(serie):\n",
    "    #H0: série não estacionária \n",
    "    dftest = adfuller(serie, autolag='AIC')\n",
    "    df_output = pd.Series(dftest[0:4], index=['Test Statistic','p-value','#Lags','Nº Observações'])\n",
    "    for key,value in dftest[4].items():\n",
    "        df_output['Valor Crítico (%s)'%key] = value\n",
    "    print(df_output)\n",
    "    if df_output[0] < df_output['Valor Crítico (5%)']: # descarta a H0 se o teste estatistico for menor que o valor crítico \n",
    "        print('estacionária')\n",
    "    else:\n",
    "        print(df_output[0])\n",
    "        print('não estacionária')"
   ]
  },
  {
   "cell_type": "code",
   "execution_count": 21,
   "id": "5df40504-a8fc-4213-bb76-fbf6332bc88c",
   "metadata": {},
   "outputs": [
    {
     "name": "stdout",
     "output_type": "stream",
     "text": [
      "Test Statistic          0.424912\n",
      "p-value                 0.982403\n",
      "#Lags                   1.000000\n",
      "Nº Observações         47.000000\n",
      "Valor Crítico (1%)     -3.577848\n",
      "Valor Crítico (5%)     -2.925338\n",
      "Valor Crítico (10%)    -2.600774\n",
      "dtype: float64\n",
      "0.42491206216122157\n",
      "não estacionária\n"
     ]
    }
   ],
   "source": [
    "teste_df(df.values)"
   ]
  },
  {
   "cell_type": "code",
   "execution_count": 22,
   "id": "caff5667-d708-42bb-849a-2ae8a5fcbcda",
   "metadata": {},
   "outputs": [],
   "source": [
    "df_diff = df.diff().dropna()"
   ]
  },
  {
   "cell_type": "code",
   "execution_count": 23,
   "id": "b7869ba6-99bf-4f19-ba05-8bf0f20d1625",
   "metadata": {},
   "outputs": [
    {
     "name": "stdout",
     "output_type": "stream",
     "text": [
      "Test Statistic         -3.405838\n",
      "p-value                 0.010761\n",
      "#Lags                   0.000000\n",
      "Nº Observações         47.000000\n",
      "Valor Crítico (1%)     -3.577848\n",
      "Valor Crítico (5%)     -2.925338\n",
      "Valor Crítico (10%)    -2.600774\n",
      "dtype: float64\n",
      "estacionária\n"
     ]
    }
   ],
   "source": [
    "teste_df(df_diff.values)"
   ]
  },
  {
   "cell_type": "code",
   "execution_count": 24,
   "id": "1609ef48-95a6-4172-9dfd-dc917d954b56",
   "metadata": {},
   "outputs": [],
   "source": [
    "df_diff_diff = df.diff().diff().dropna()"
   ]
  },
  {
   "cell_type": "code",
   "execution_count": 25,
   "id": "6518f699-cff7-4099-9c10-c143f19168b1",
   "metadata": {},
   "outputs": [
    {
     "name": "stdout",
     "output_type": "stream",
     "text": [
      "Test Statistic        -6.929925e+00\n",
      "p-value                1.090738e-09\n",
      "#Lags                  1.000000e+00\n",
      "Nº Observações         4.500000e+01\n",
      "Valor Crítico (1%)    -3.584829e+00\n",
      "Valor Crítico (5%)    -2.928299e+00\n",
      "Valor Crítico (10%)   -2.602344e+00\n",
      "dtype: float64\n",
      "estacionária\n"
     ]
    }
   ],
   "source": [
    "teste_df(df_diff_diff.values)"
   ]
  },
  {
   "cell_type": "markdown",
   "id": "a452f0f2-1e56-400e-bea1-0a52a3e87cb3",
   "metadata": {},
   "source": [
    "A série não é estacionária, porém quando aplicamos uma ou mais diferenciação, ela fica estacionária. Então, provavelmente utilizaremos a serie diferenciada para a aplicação dos modelos."
   ]
  },
  {
   "cell_type": "markdown",
   "id": "3859118d-120f-4055-8600-65243fd52630",
   "metadata": {},
   "source": [
    "## Pré - processamento"
   ]
  },
  {
   "cell_type": "markdown",
   "id": "06512724-34b6-498d-89a2-73595e3cbfef",
   "metadata": {},
   "source": [
    "Divisão da base de dados em uma base para treinamento e outra para teste"
   ]
  },
  {
   "cell_type": "code",
   "execution_count": 26,
   "id": "ab2bb46f-0c59-49ee-81bf-76ba06512b07",
   "metadata": {},
   "outputs": [
    {
     "name": "stdout",
     "output_type": "stream",
     "text": [
      "Quantidade de linhas a serem consideradas para cada parte\n",
      "Total: 49\n",
      "Train: 37\n",
      "Test: 12\n"
     ]
    }
   ],
   "source": [
    "print('Quantidade de linhas a serem consideradas para cada parte')\n",
    "print('Total:',df.shape[0])\n",
    "print('Train:',round((df.shape[0])*0.75))\n",
    "print('Test:',round((df.shape[0])*0.25))"
   ]
  },
  {
   "cell_type": "code",
   "execution_count": 27,
   "id": "c55c7976-1de4-494c-808e-ad5bfc741e8e",
   "metadata": {},
   "outputs": [],
   "source": [
    "corte = round(len(df) * 0.75)\n",
    "\n",
    "train = df[:corte]\n",
    "test = df[corte:]"
   ]
  },
  {
   "cell_type": "code",
   "execution_count": 28,
   "id": "9c369f4b-f9cc-404d-ace1-6a88f240872b",
   "metadata": {},
   "outputs": [
    {
     "name": "stdout",
     "output_type": "stream",
     "text": [
      "Separação OK\n",
      "Train (qtd linhas): 37\n",
      "Test (qtd linhas): 12\n"
     ]
    }
   ],
   "source": [
    "if len(df) == len(train) + len(test):\n",
    "    print(\"Separação OK\")\n",
    "    print('Train (qtd linhas):',train.shape[0])\n",
    "    print('Test (qtd linhas):',test.shape[0])\n",
    "else:\n",
    "    print(\"Rever separação\")"
   ]
  },
  {
   "cell_type": "code",
   "execution_count": 29,
   "id": "c395100a-d8a4-4dbb-8704-21e7234be9d2",
   "metadata": {},
   "outputs": [
    {
     "data": {
      "text/html": [
       "<div>\n",
       "<style scoped>\n",
       "    .dataframe tbody tr th:only-of-type {\n",
       "        vertical-align: middle;\n",
       "    }\n",
       "\n",
       "    .dataframe tbody tr th {\n",
       "        vertical-align: top;\n",
       "    }\n",
       "\n",
       "    .dataframe thead th {\n",
       "        text-align: right;\n",
       "    }\n",
       "</style>\n",
       "<table border=\"1\" class=\"dataframe\">\n",
       "  <thead>\n",
       "    <tr style=\"text-align: right;\">\n",
       "      <th></th>\n",
       "      <th>milhoes_tons</th>\n",
       "    </tr>\n",
       "    <tr>\n",
       "      <th>ano</th>\n",
       "      <th></th>\n",
       "    </tr>\n",
       "  </thead>\n",
       "  <tbody>\n",
       "    <tr>\n",
       "      <th>1965</th>\n",
       "      <td>5.033297</td>\n",
       "    </tr>\n",
       "    <tr>\n",
       "      <th>1966</th>\n",
       "      <td>6.147396</td>\n",
       "    </tr>\n",
       "    <tr>\n",
       "      <th>1967</th>\n",
       "      <td>7.738966</td>\n",
       "    </tr>\n",
       "    <tr>\n",
       "      <th>1968</th>\n",
       "      <td>8.504936</td>\n",
       "    </tr>\n",
       "    <tr>\n",
       "      <th>1969</th>\n",
       "      <td>9.277483</td>\n",
       "    </tr>\n",
       "  </tbody>\n",
       "</table>\n",
       "</div>"
      ],
      "text/plain": [
       "      milhoes_tons\n",
       "ano               \n",
       "1965      5.033297\n",
       "1966      6.147396\n",
       "1967      7.738966\n",
       "1968      8.504936\n",
       "1969      9.277483"
      ]
     },
     "execution_count": 29,
     "metadata": {},
     "output_type": "execute_result"
    }
   ],
   "source": [
    "train.head()"
   ]
  },
  {
   "cell_type": "code",
   "execution_count": 30,
   "id": "0bbf6f1c-5423-4569-92cc-8e5d7fba5ff3",
   "metadata": {},
   "outputs": [
    {
     "data": {
      "text/html": [
       "<div>\n",
       "<style scoped>\n",
       "    .dataframe tbody tr th:only-of-type {\n",
       "        vertical-align: middle;\n",
       "    }\n",
       "\n",
       "    .dataframe tbody tr th {\n",
       "        vertical-align: top;\n",
       "    }\n",
       "\n",
       "    .dataframe thead th {\n",
       "        text-align: right;\n",
       "    }\n",
       "</style>\n",
       "<table border=\"1\" class=\"dataframe\">\n",
       "  <thead>\n",
       "    <tr style=\"text-align: right;\">\n",
       "      <th></th>\n",
       "      <th>milhoes_tons</th>\n",
       "    </tr>\n",
       "    <tr>\n",
       "      <th>ano</th>\n",
       "      <th></th>\n",
       "    </tr>\n",
       "  </thead>\n",
       "  <tbody>\n",
       "    <tr>\n",
       "      <th>2002</th>\n",
       "      <td>78.422303</td>\n",
       "    </tr>\n",
       "    <tr>\n",
       "      <th>2003</th>\n",
       "      <td>81.058067</td>\n",
       "    </tr>\n",
       "    <tr>\n",
       "      <th>2004</th>\n",
       "      <td>80.563939</td>\n",
       "    </tr>\n",
       "    <tr>\n",
       "      <th>2005</th>\n",
       "      <td>88.719863</td>\n",
       "    </tr>\n",
       "    <tr>\n",
       "      <th>2006</th>\n",
       "      <td>93.670600</td>\n",
       "    </tr>\n",
       "    <tr>\n",
       "      <th>2007</th>\n",
       "      <td>95.187961</td>\n",
       "    </tr>\n",
       "    <tr>\n",
       "      <th>2008</th>\n",
       "      <td>98.769011</td>\n",
       "    </tr>\n",
       "    <tr>\n",
       "      <th>2009</th>\n",
       "      <td>105.606944</td>\n",
       "    </tr>\n",
       "    <tr>\n",
       "      <th>2010</th>\n",
       "      <td>111.377764</td>\n",
       "    </tr>\n",
       "    <tr>\n",
       "      <th>2011</th>\n",
       "      <td>114.212252</td>\n",
       "    </tr>\n",
       "    <tr>\n",
       "      <th>2012</th>\n",
       "      <td>112.186778</td>\n",
       "    </tr>\n",
       "    <tr>\n",
       "      <th>2013</th>\n",
       "      <td>109.940770</td>\n",
       "    </tr>\n",
       "  </tbody>\n",
       "</table>\n",
       "</div>"
      ],
      "text/plain": [
       "      milhoes_tons\n",
       "ano               \n",
       "2002     78.422303\n",
       "2003     81.058067\n",
       "2004     80.563939\n",
       "2005     88.719863\n",
       "2006     93.670600\n",
       "2007     95.187961\n",
       "2008     98.769011\n",
       "2009    105.606944\n",
       "2010    111.377764\n",
       "2011    114.212252\n",
       "2012    112.186778\n",
       "2013    109.940770"
      ]
     },
     "execution_count": 30,
     "metadata": {},
     "output_type": "execute_result"
    }
   ],
   "source": [
    "test"
   ]
  },
  {
   "cell_type": "markdown",
   "id": "d94dbab0-e639-44ff-bcae-44a03518373c",
   "metadata": {},
   "source": [
    "## Metodologia Box-Jenkins"
   ]
  },
  {
   "cell_type": "code",
   "execution_count": 31,
   "id": "91b652b6-7211-4080-87d5-31f2430ef0c4",
   "metadata": {},
   "outputs": [],
   "source": [
    "# Função para plotar o ACF E PACF\n",
    "def acf_pacf(x, qtd_lag):\n",
    "    fig = plt.figure(figsize=(16,10))\n",
    "    ax1 = fig.add_subplot(221)\n",
    "    fig = sm.graphics.tsa.plot_acf(x, lags=qtd_lag, ax=ax1)\n",
    "    ax2 = fig.add_subplot(222)\n",
    "    fig = sm.graphics.tsa.plot_pacf(x, lags=qtd_lag, ax=ax2)\n",
    "    plt.show()"
   ]
  },
  {
   "cell_type": "markdown",
   "id": "ffa9459f-088a-47dd-9995-31a53cfce5ee",
   "metadata": {
    "tags": []
   },
   "source": [
    "A série sem diferenciação já foi analisada anteriormente e conseguimos ver as caracteristicas da FAC e FACP bem como concluir que ela não é estacionária. Com isso, iremos aplicar a metodologia na série diferenciada."
   ]
  },
  {
   "cell_type": "markdown",
   "id": "bd22f614-0a4d-4d35-9e9e-d81026f68ad7",
   "metadata": {},
   "source": [
    "### Série com 1 diferenciação"
   ]
  },
  {
   "cell_type": "markdown",
   "id": "9a779766-4685-46dc-9b41-40d344db6ab3",
   "metadata": {
    "tags": []
   },
   "source": [
    "#### (1) Identificação:"
   ]
  },
  {
   "cell_type": "markdown",
   "id": "747c3dac-b19f-4cdf-957a-d0417815e5b7",
   "metadata": {},
   "source": [
    "##### Função de Autocorrelação e Função de Autocorrelação Parcial"
   ]
  },
  {
   "cell_type": "code",
   "execution_count": 32,
   "id": "f3eca01e-23a9-4e28-9d83-63b5db280050",
   "metadata": {},
   "outputs": [
    {
     "data": {
      "image/png": "[encoded data removed]",
      "text/plain": [
       "<Figure size 1152x720 with 2 Axes>"
      ]
     },
     "metadata": {
      "needs_background": "light"
     },
     "output_type": "display_data"
    }
   ],
   "source": [
    "acf_pacf(train.milhoes_tons.diff().dropna(), 16)"
   ]
  },
  {
   "cell_type": "markdown",
   "id": "8e043e64-101b-4f89-9be4-c07db0d28fe5",
   "metadata": {},
   "source": [
    "##### Escolha do parâmetro (d):\n",
    "\n",
    "Avaliando a quantidade de diferenciações"
   ]
  },
  {
   "cell_type": "code",
   "execution_count": 33,
   "id": "a9348a06-1c32-4022-a430-2145ccf31568",
   "metadata": {},
   "outputs": [],
   "source": [
    "arima_d = 1"
   ]
  },
  {
   "cell_type": "markdown",
   "id": "f751c3f4-68d0-42d8-bfff-c1b34a175dd7",
   "metadata": {},
   "source": [
    "##### Escolha do parâmetro (p):\n",
    "\n",
    "Avaliando FACP (Partial Autocorrelation)"
   ]
  },
  {
   "cell_type": "code",
   "execution_count": 34,
   "id": "76be7168-8b09-4733-8d5e-eb7f72c939ad",
   "metadata": {},
   "outputs": [],
   "source": [
    "arima_p = 1"
   ]
  },
  {
   "cell_type": "markdown",
   "id": "869da6f2-520b-43b4-a173-c4ce8ad459ba",
   "metadata": {},
   "source": [
    "##### Escolha do parâmetro (q):\n",
    "\n",
    "Avaliando FAC (Autocorrelation)"
   ]
  },
  {
   "cell_type": "code",
   "execution_count": 35,
   "id": "432d52bc-2fcf-4880-89e9-cd7675c91872",
   "metadata": {},
   "outputs": [],
   "source": [
    "arima_q_1 = 0\n",
    "arima_q_2 = 1\n",
    "arima_q_3 = 2"
   ]
  },
  {
   "cell_type": "markdown",
   "id": "5a47f48f-e686-4517-b77b-f06c22a7580d",
   "metadata": {
    "tags": []
   },
   "source": [
    "#### (2.1) Estimação:"
   ]
  },
  {
   "cell_type": "code",
   "execution_count": 36,
   "id": "51a3146b-1c1e-4c52-886a-9ffe0a34bd96",
   "metadata": {},
   "outputs": [
    {
     "name": "stdout",
     "output_type": "stream",
     "text": [
      "                               SARIMAX Results                                \n",
      "==============================================================================\n",
      "Dep. Variable:           milhoes_tons   No. Observations:                   37\n",
      "Model:                 ARIMA(1, 1, 0)   Log Likelihood                 -69.285\n",
      "Date:                Mon, 03 Oct 2022   AIC                            142.571\n",
      "Time:                        22:12:12   BIC                            145.738\n",
      "Sample:                             0   HQIC                           143.676\n",
      "                                 - 37                                         \n",
      "Covariance Type:                  opg                                         \n",
      "==============================================================================\n",
      "                 coef    std err          z      P>|z|      [0.025      0.975]\n",
      "------------------------------------------------------------------------------\n",
      "ar.L1          0.8248      0.075     10.982      0.000       0.678       0.972\n",
      "sigma2         2.6635      0.519      5.130      0.000       1.646       3.681\n",
      "===================================================================================\n",
      "Ljung-Box (L1) (Q):                   0.10   Jarque-Bera (JB):                 3.50\n",
      "Prob(Q):                              0.76   Prob(JB):                         0.17\n",
      "Heteroskedasticity (H):              14.67   Skew:                             0.63\n",
      "Prob(H) (two-sided):                  0.00   Kurtosis:                         3.85\n",
      "===================================================================================\n",
      "\n",
      "Warnings:\n",
      "[1] Covariance matrix calculated using the outer product of gradients (complex-step).\n"
     ]
    }
   ],
   "source": [
    "#Considerando arima_q_1\n",
    "model_arima_1 = ARIMA(train.milhoes_tons, order=(arima_p, arima_d, arima_q_1))\n",
    "model_fit_1 = model_arima_1.fit()\n",
    "print(model_fit_1.summary())"
   ]
  },
  {
   "cell_type": "code",
   "execution_count": 37,
   "id": "f127cf70-4a58-44f4-9503-07bf81ab4b7e",
   "metadata": {},
   "outputs": [
    {
     "name": "stdout",
     "output_type": "stream",
     "text": [
      "                               SARIMAX Results                                \n",
      "==============================================================================\n",
      "Dep. Variable:           milhoes_tons   No. Observations:                   37\n",
      "Model:                 ARIMA(1, 1, 1)   Log Likelihood                 -69.285\n",
      "Date:                Mon, 03 Oct 2022   AIC                            144.570\n",
      "Time:                        22:12:13   BIC                            149.320\n",
      "Sample:                             0   HQIC                           146.228\n",
      "                                 - 37                                         \n",
      "Covariance Type:                  opg                                         \n",
      "==============================================================================\n",
      "                 coef    std err          z      P>|z|      [0.025      0.975]\n",
      "------------------------------------------------------------------------------\n",
      "ar.L1          0.8267      0.090      9.160      0.000       0.650       1.004\n",
      "ma.L1         -0.0056      0.233     -0.024      0.981      -0.462       0.451\n",
      "sigma2         2.6633      0.537      4.961      0.000       1.611       3.716\n",
      "===================================================================================\n",
      "Ljung-Box (L1) (Q):                   0.08   Jarque-Bera (JB):                 3.43\n",
      "Prob(Q):                              0.78   Prob(JB):                         0.18\n",
      "Heteroskedasticity (H):              14.69   Skew:                             0.63\n",
      "Prob(H) (two-sided):                  0.00   Kurtosis:                         3.84\n",
      "===================================================================================\n",
      "\n",
      "Warnings:\n",
      "[1] Covariance matrix calculated using the outer product of gradients (complex-step).\n"
     ]
    }
   ],
   "source": [
    "#Considerando arima_q_2\n",
    "model_arima_2 = ARIMA(train.milhoes_tons, order=(arima_p, arima_d, arima_q_2))\n",
    "model_fit_2 = model_arima_2.fit()\n",
    "print(model_fit_2.summary())"
   ]
  },
  {
   "cell_type": "code",
   "execution_count": 38,
   "id": "8b667448-1ba5-457a-974b-c24e94bc0359",
   "metadata": {},
   "outputs": [
    {
     "name": "stdout",
     "output_type": "stream",
     "text": [
      "                               SARIMAX Results                                \n",
      "==============================================================================\n",
      "Dep. Variable:           milhoes_tons   No. Observations:                   37\n",
      "Model:                 ARIMA(1, 1, 2)   Log Likelihood                 -67.986\n",
      "Date:                Mon, 03 Oct 2022   AIC                            143.971\n",
      "Time:                        22:12:13   BIC                            150.305\n",
      "Sample:                             0   HQIC                           146.182\n",
      "                                 - 37                                         \n",
      "Covariance Type:                  opg                                         \n",
      "==============================================================================\n",
      "                 coef    std err          z      P>|z|      [0.025      0.975]\n",
      "------------------------------------------------------------------------------\n",
      "ar.L1          0.6118      0.164      3.740      0.000       0.291       0.932\n",
      "ma.L1          0.3036      0.242      1.255      0.209      -0.170       0.778\n",
      "ma.L2          0.3911      0.198      1.979      0.048       0.004       0.778\n",
      "sigma2         2.4585      0.507      4.845      0.000       1.464       3.453\n",
      "===================================================================================\n",
      "Ljung-Box (L1) (Q):                   0.27   Jarque-Bera (JB):                 2.46\n",
      "Prob(Q):                              0.61   Prob(JB):                         0.29\n",
      "Heteroskedasticity (H):              16.46   Skew:                             0.52\n",
      "Prob(H) (two-sided):                  0.00   Kurtosis:                         3.74\n",
      "===================================================================================\n",
      "\n",
      "Warnings:\n",
      "[1] Covariance matrix calculated using the outer product of gradients (complex-step).\n"
     ]
    }
   ],
   "source": [
    "#Considerando arima_q_3\n",
    "model_arima_3 = ARIMA(train.milhoes_tons, order=(arima_p, arima_d, arima_q_3))\n",
    "model_fit_3 = model_arima_3.fit()\n",
    "print(model_fit_3.summary())"
   ]
  },
  {
   "cell_type": "markdown",
   "id": "04a39e75-b86b-4796-8ec3-e18df347f2db",
   "metadata": {},
   "source": [
    "Avaliando o parametro BIC, concluimos que o modelo com o arima_q_1 é o melhor para ser aplicado na serie com 1 diferenciação"
   ]
  },
  {
   "cell_type": "markdown",
   "id": "46bd9db4-33ce-49ac-9377-f5f03b3c9c98",
   "metadata": {},
   "source": [
    "#### (2.2) Avaliação/Diagnóstico:"
   ]
  },
  {
   "cell_type": "code",
   "execution_count": 39,
   "id": "27df3db9-7b37-4432-bd7a-1a66bf48a9d3",
   "metadata": {},
   "outputs": [
    {
     "data": {
      "image/png": "[encoded data removed]",
      "text/plain": [
       "<Figure size 1152x576 with 4 Axes>"
      ]
     },
     "metadata": {
      "needs_background": "light"
     },
     "output_type": "display_data"
    }
   ],
   "source": [
    "model_fit_1.plot_diagnostics(figsize=(16,8));"
   ]
  },
  {
   "cell_type": "markdown",
   "id": "062fd501-b6ae-4d8a-bda2-cba2ea5fb532",
   "metadata": {},
   "source": [
    "#### (3.1) Previsão:"
   ]
  },
  {
   "cell_type": "code",
   "execution_count": 40,
   "id": "6c72d2f0-c6ef-4477-a909-59c7c96f82bd",
   "metadata": {},
   "outputs": [
    {
     "data": {
      "image/png": "[encoded data removed]",
      "text/plain": [
       "<Figure size 1080x432 with 1 Axes>"
      ]
     },
     "metadata": {
      "needs_background": "light"
     },
     "output_type": "display_data"
    },
    {
     "data": {
      "text/plain": [
       "2002    84.826711\n",
       "2003    84.826711\n",
       "2004    84.826711\n",
       "2005    84.826711\n",
       "2006    84.826711\n",
       "2007    84.826711\n",
       "2008    84.826711\n",
       "2009    84.826711\n",
       "2010    84.826711\n",
       "2011    84.826711\n",
       "2012    84.826711\n",
       "2013    84.826711\n",
       "Name: predicted_mean, dtype: float64"
      ]
     },
     "execution_count": 40,
     "metadata": {},
     "output_type": "execute_result"
    }
   ],
   "source": [
    "#previsao = model_fit.predict(start=1965 + 37, end=1965 + 48)\n",
    "previsao1 = model_fit_1.predict(start=(len(train)+1965), end=(len(train+test)+1965-1))\n",
    "\n",
    "obs_train = plt.plot(train, color='black', label='Obs (train)')\n",
    "obs_test = plt.plot(test, color='blue', label= 'Obs (test)', linestyle='dotted')#, 'bo') \n",
    "pred = plt.plot(previsao1, color='red', label='Previsão', linestyle='dotted')#, 'bo') \n",
    "\n",
    "plt.legend(loc='best')\n",
    "plt.xlabel(\"Time\")\n",
    "plt.ylabel(\"MVF\")\n",
    "plt.show()\n",
    "previsao1"
   ]
  },
  {
   "cell_type": "code",
   "execution_count": 41,
   "id": "41582310-1b6d-41e8-9cc5-8de4385b1b20",
   "metadata": {},
   "outputs": [
    {
     "data": {
      "text/html": [
       "<div>\n",
       "<style scoped>\n",
       "    .dataframe tbody tr th:only-of-type {\n",
       "        vertical-align: middle;\n",
       "    }\n",
       "\n",
       "    .dataframe tbody tr th {\n",
       "        vertical-align: top;\n",
       "    }\n",
       "\n",
       "    .dataframe thead th {\n",
       "        text-align: right;\n",
       "    }\n",
       "</style>\n",
       "<table border=\"1\" class=\"dataframe\">\n",
       "  <thead>\n",
       "    <tr style=\"text-align: right;\">\n",
       "      <th></th>\n",
       "      <th>previsao1</th>\n",
       "      <th>obs_test</th>\n",
       "    </tr>\n",
       "  </thead>\n",
       "  <tbody>\n",
       "    <tr>\n",
       "      <th>2002</th>\n",
       "      <td>84.826711</td>\n",
       "      <td>78.422303</td>\n",
       "    </tr>\n",
       "    <tr>\n",
       "      <th>2003</th>\n",
       "      <td>84.826711</td>\n",
       "      <td>81.058067</td>\n",
       "    </tr>\n",
       "    <tr>\n",
       "      <th>2004</th>\n",
       "      <td>84.826711</td>\n",
       "      <td>80.563939</td>\n",
       "    </tr>\n",
       "    <tr>\n",
       "      <th>2005</th>\n",
       "      <td>84.826711</td>\n",
       "      <td>88.719863</td>\n",
       "    </tr>\n",
       "    <tr>\n",
       "      <th>2006</th>\n",
       "      <td>84.826711</td>\n",
       "      <td>93.670600</td>\n",
       "    </tr>\n",
       "    <tr>\n",
       "      <th>2007</th>\n",
       "      <td>84.826711</td>\n",
       "      <td>95.187961</td>\n",
       "    </tr>\n",
       "    <tr>\n",
       "      <th>2008</th>\n",
       "      <td>84.826711</td>\n",
       "      <td>98.769011</td>\n",
       "    </tr>\n",
       "    <tr>\n",
       "      <th>2009</th>\n",
       "      <td>84.826711</td>\n",
       "      <td>105.606944</td>\n",
       "    </tr>\n",
       "    <tr>\n",
       "      <th>2010</th>\n",
       "      <td>84.826711</td>\n",
       "      <td>111.377764</td>\n",
       "    </tr>\n",
       "    <tr>\n",
       "      <th>2011</th>\n",
       "      <td>84.826711</td>\n",
       "      <td>114.212252</td>\n",
       "    </tr>\n",
       "    <tr>\n",
       "      <th>2012</th>\n",
       "      <td>84.826711</td>\n",
       "      <td>112.186778</td>\n",
       "    </tr>\n",
       "    <tr>\n",
       "      <th>2013</th>\n",
       "      <td>84.826711</td>\n",
       "      <td>109.940770</td>\n",
       "    </tr>\n",
       "  </tbody>\n",
       "</table>\n",
       "</div>"
      ],
      "text/plain": [
       "      previsao1    obs_test\n",
       "2002  84.826711   78.422303\n",
       "2003  84.826711   81.058067\n",
       "2004  84.826711   80.563939\n",
       "2005  84.826711   88.719863\n",
       "2006  84.826711   93.670600\n",
       "2007  84.826711   95.187961\n",
       "2008  84.826711   98.769011\n",
       "2009  84.826711  105.606944\n",
       "2010  84.826711  111.377764\n",
       "2011  84.826711  114.212252\n",
       "2012  84.826711  112.186778\n",
       "2013  84.826711  109.940770"
      ]
     },
     "execution_count": 41,
     "metadata": {},
     "output_type": "execute_result"
    },
    {
     "data": {
      "image/png": "[encoded data removed]",
      "text/plain": [
       "<Figure size 1080x432 with 1 Axes>"
      ]
     },
     "metadata": {
      "needs_background": "light"
     },
     "output_type": "display_data"
    }
   ],
   "source": [
    "#pred = model_fit.predict(start=1965 + 37, end=1965 + 48)\n",
    "#pred = model_fit.predict(start=(len(train)+1+1965), end=(len(train+test)+1965-1))\n",
    "obs_test = test.milhoes_tons\n",
    "\n",
    "previsao1_df = pd.DataFrame()\n",
    "previsao1_df['previsao1'] = previsao1\n",
    "previsao1_df['obs_test'] = obs_test\n",
    "\n",
    "previsao1_df.plot()\n",
    "previsao1_df"
   ]
  },
  {
   "cell_type": "markdown",
   "id": "ed156984-ed4b-4d6e-800a-9071a5d46d18",
   "metadata": {},
   "source": [
    "#### Erros Previsão vs Teste"
   ]
  },
  {
   "cell_type": "code",
   "execution_count": 42,
   "id": "64dfe0fb-e9b8-4db2-84a8-4bc3974955f5",
   "metadata": {},
   "outputs": [
    {
     "data": {
      "text/html": [
       "<div>\n",
       "<style scoped>\n",
       "    .dataframe tbody tr th:only-of-type {\n",
       "        vertical-align: middle;\n",
       "    }\n",
       "\n",
       "    .dataframe tbody tr th {\n",
       "        vertical-align: top;\n",
       "    }\n",
       "\n",
       "    .dataframe thead th {\n",
       "        text-align: right;\n",
       "    }\n",
       "</style>\n",
       "<table border=\"1\" class=\"dataframe\">\n",
       "  <thead>\n",
       "    <tr style=\"text-align: right;\">\n",
       "      <th></th>\n",
       "      <th>Previsão</th>\n",
       "      <th>MSE</th>\n",
       "      <th>MAPE</th>\n",
       "    </tr>\n",
       "  </thead>\n",
       "  <tbody>\n",
       "  </tbody>\n",
       "</table>\n",
       "</div>"
      ],
      "text/plain": [
       "Empty DataFrame\n",
       "Columns: [Previsão, MSE, MAPE]\n",
       "Index: []"
      ]
     },
     "execution_count": 42,
     "metadata": {},
     "output_type": "execute_result"
    }
   ],
   "source": [
    "#Criando uma tabela de erros para comparar todas as previsões que serão realizadas\n",
    "erros_df = pd.DataFrame(columns = ['Previsão', 'MSE', 'MAPE'])\n",
    "erros_df"
   ]
  },
  {
   "cell_type": "code",
   "execution_count": 43,
   "id": "d0d1fcd0-acb6-4e0f-a646-4ccb85aa6c6f",
   "metadata": {},
   "outputs": [
    {
     "data": {
      "text/html": [
       "<div>\n",
       "<style scoped>\n",
       "    .dataframe tbody tr th:only-of-type {\n",
       "        vertical-align: middle;\n",
       "    }\n",
       "\n",
       "    .dataframe tbody tr th {\n",
       "        vertical-align: top;\n",
       "    }\n",
       "\n",
       "    .dataframe thead th {\n",
       "        text-align: right;\n",
       "    }\n",
       "</style>\n",
       "<table border=\"1\" class=\"dataframe\">\n",
       "  <thead>\n",
       "    <tr style=\"text-align: right;\">\n",
       "      <th></th>\n",
       "      <th>Previsão</th>\n",
       "      <th>MSE</th>\n",
       "      <th>MAPE</th>\n",
       "    </tr>\n",
       "  </thead>\n",
       "  <tbody>\n",
       "    <tr>\n",
       "      <th>0</th>\n",
       "      <td>1 diff</td>\n",
       "      <td>321</td>\n",
       "      <td>15</td>\n",
       "    </tr>\n",
       "  </tbody>\n",
       "</table>\n",
       "</div>"
      ],
      "text/plain": [
       "  Previsão  MSE MAPE\n",
       "0   1 diff  321   15"
      ]
     },
     "execution_count": 43,
     "metadata": {},
     "output_type": "execute_result"
    }
   ],
   "source": [
    "#MSE previsão 1\n",
    "MSE_pred1 = round(mean_squared_error(previsao1_df['previsao1'], previsao1_df['obs_test']))\n",
    "\n",
    "#MAPE previsão 1\n",
    "MAPE_pred1 = round(mean_absolute_error(previsao1_df['previsao1'], previsao1_df['obs_test']))\n",
    "\n",
    "#Acrescentando na tabela de erros\n",
    "erros_df = erros_df.append({'Previsão': '1 diff', 'MSE': MSE_pred1, 'MAPE':MAPE_pred1}, ignore_index = True)\n",
    "erros_df"
   ]
  },
  {
   "cell_type": "markdown",
   "id": "4129eb46-96ec-4962-aae5-36aee2eddd11",
   "metadata": {},
   "source": [
    "#### (3.2) Previsão One step ahead "
   ]
  },
  {
   "cell_type": "code",
   "execution_count": 44,
   "id": "d78a7348-a90b-475d-a6f6-69aa8894665d",
   "metadata": {},
   "outputs": [
    {
     "name": "stdout",
     "output_type": "stream",
     "text": [
      "predicted=72.625850\n",
      "predicted=85.693193\n",
      "predicted=83.104369\n",
      "predicted=80.188253\n",
      "predicted=94.783444\n",
      "predicted=97.262235\n",
      "predicted=96.258605\n",
      "predicted=101.322136\n",
      "predicted=110.673353\n",
      "predicted=115.702964\n",
      "predicted=116.297787\n",
      "predicted=110.735661\n"
     ]
    }
   ],
   "source": [
    "history = [x for x in train.milhoes_tons]\n",
    "predictions1 = list()\n",
    "\n",
    "for t in test.index:\n",
    "    model = ARIMA(history, order=(arima_p, arima_d, arima_q_1))\n",
    "    model_fit = model.fit()\n",
    "    output = model_fit.forecast(alpha=0.05)\n",
    "    yhat = output[0]\n",
    "    predictions1.append(yhat)\n",
    "    obs = float(test.loc[t].values)\n",
    "    history.append(obs)\n",
    "    print('predicted=%f' % (yhat))"
   ]
  },
  {
   "cell_type": "code",
   "execution_count": 45,
   "id": "0646e7c4-6da1-40a5-a35a-ea23b3000bb9",
   "metadata": {},
   "outputs": [
    {
     "data": {
      "image/png": "[encoded data removed]",
      "text/plain": [
       "<Figure size 1080x432 with 1 Axes>"
      ]
     },
     "metadata": {
      "needs_background": "light"
     },
     "output_type": "display_data"
    }
   ],
   "source": [
    "plt.plot(test.values, color='blue', label='Obs (train)')\n",
    "plt.plot(predictions1, color='red',  label='Previsão')\n",
    "plt.show()"
   ]
  },
  {
   "cell_type": "code",
   "execution_count": 46,
   "id": "cbd19222-bfdb-4495-a6d9-e5f23ecf50c9",
   "metadata": {},
   "outputs": [
    {
     "data": {
      "text/html": [
       "<div>\n",
       "<style scoped>\n",
       "    .dataframe tbody tr th:only-of-type {\n",
       "        vertical-align: middle;\n",
       "    }\n",
       "\n",
       "    .dataframe tbody tr th {\n",
       "        vertical-align: top;\n",
       "    }\n",
       "\n",
       "    .dataframe thead th {\n",
       "        text-align: right;\n",
       "    }\n",
       "</style>\n",
       "<table border=\"1\" class=\"dataframe\">\n",
       "  <thead>\n",
       "    <tr style=\"text-align: right;\">\n",
       "      <th></th>\n",
       "      <th>previsao1_osa</th>\n",
       "      <th>obs_test</th>\n",
       "    </tr>\n",
       "  </thead>\n",
       "  <tbody>\n",
       "    <tr>\n",
       "      <th>0</th>\n",
       "      <td>72.625850</td>\n",
       "      <td>78.422303</td>\n",
       "    </tr>\n",
       "    <tr>\n",
       "      <th>1</th>\n",
       "      <td>85.693193</td>\n",
       "      <td>81.058067</td>\n",
       "    </tr>\n",
       "    <tr>\n",
       "      <th>2</th>\n",
       "      <td>83.104369</td>\n",
       "      <td>80.563939</td>\n",
       "    </tr>\n",
       "    <tr>\n",
       "      <th>3</th>\n",
       "      <td>80.188253</td>\n",
       "      <td>88.719863</td>\n",
       "    </tr>\n",
       "    <tr>\n",
       "      <th>4</th>\n",
       "      <td>94.783444</td>\n",
       "      <td>93.670600</td>\n",
       "    </tr>\n",
       "    <tr>\n",
       "      <th>5</th>\n",
       "      <td>97.262235</td>\n",
       "      <td>95.187961</td>\n",
       "    </tr>\n",
       "    <tr>\n",
       "      <th>6</th>\n",
       "      <td>96.258605</td>\n",
       "      <td>98.769011</td>\n",
       "    </tr>\n",
       "    <tr>\n",
       "      <th>7</th>\n",
       "      <td>101.322136</td>\n",
       "      <td>105.606944</td>\n",
       "    </tr>\n",
       "    <tr>\n",
       "      <th>8</th>\n",
       "      <td>110.673353</td>\n",
       "      <td>111.377764</td>\n",
       "    </tr>\n",
       "    <tr>\n",
       "      <th>9</th>\n",
       "      <td>115.702964</td>\n",
       "      <td>114.212252</td>\n",
       "    </tr>\n",
       "    <tr>\n",
       "      <th>10</th>\n",
       "      <td>116.297787</td>\n",
       "      <td>112.186778</td>\n",
       "    </tr>\n",
       "    <tr>\n",
       "      <th>11</th>\n",
       "      <td>110.735661</td>\n",
       "      <td>109.940770</td>\n",
       "    </tr>\n",
       "  </tbody>\n",
       "</table>\n",
       "</div>"
      ],
      "text/plain": [
       "    previsao1_osa    obs_test\n",
       "0       72.625850   78.422303\n",
       "1       85.693193   81.058067\n",
       "2       83.104369   80.563939\n",
       "3       80.188253   88.719863\n",
       "4       94.783444   93.670600\n",
       "5       97.262235   95.187961\n",
       "6       96.258605   98.769011\n",
       "7      101.322136  105.606944\n",
       "8      110.673353  111.377764\n",
       "9      115.702964  114.212252\n",
       "10     116.297787  112.186778\n",
       "11     110.735661  109.940770"
      ]
     },
     "execution_count": 46,
     "metadata": {},
     "output_type": "execute_result"
    }
   ],
   "source": [
    "obs_test = test.values\n",
    "\n",
    "previsao1_osa_df = pd.DataFrame()\n",
    "previsao1_osa_df['previsao1_osa'] = predictions1\n",
    "previsao1_osa_df['obs_test'] = obs_test\n",
    "\n",
    "previsao1_osa_df"
   ]
  },
  {
   "cell_type": "markdown",
   "id": "e9c2ad2e-351d-43ad-822f-191aa18867d2",
   "metadata": {},
   "source": [
    "#### Erros Previsão vs Teste"
   ]
  },
  {
   "cell_type": "code",
   "execution_count": 47,
   "id": "c9dc6582-e3da-417b-8fa3-a164cbd55160",
   "metadata": {},
   "outputs": [
    {
     "data": {
      "text/html": [
       "<div>\n",
       "<style scoped>\n",
       "    .dataframe tbody tr th:only-of-type {\n",
       "        vertical-align: middle;\n",
       "    }\n",
       "\n",
       "    .dataframe tbody tr th {\n",
       "        vertical-align: top;\n",
       "    }\n",
       "\n",
       "    .dataframe thead th {\n",
       "        text-align: right;\n",
       "    }\n",
       "</style>\n",
       "<table border=\"1\" class=\"dataframe\">\n",
       "  <thead>\n",
       "    <tr style=\"text-align: right;\">\n",
       "      <th></th>\n",
       "      <th>Previsão</th>\n",
       "      <th>MSE</th>\n",
       "      <th>MAPE</th>\n",
       "    </tr>\n",
       "  </thead>\n",
       "  <tbody>\n",
       "    <tr>\n",
       "      <th>0</th>\n",
       "      <td>1 diff</td>\n",
       "      <td>321</td>\n",
       "      <td>15</td>\n",
       "    </tr>\n",
       "    <tr>\n",
       "      <th>1</th>\n",
       "      <td>1 diff OSA</td>\n",
       "      <td>15</td>\n",
       "      <td>3</td>\n",
       "    </tr>\n",
       "  </tbody>\n",
       "</table>\n",
       "</div>"
      ],
      "text/plain": [
       "     Previsão  MSE MAPE\n",
       "0      1 diff  321   15\n",
       "1  1 diff OSA   15    3"
      ]
     },
     "execution_count": 47,
     "metadata": {},
     "output_type": "execute_result"
    }
   ],
   "source": [
    "#MSE previsão 1 com one step ahead (osa)\n",
    "MSE_pred1_osa = round(mean_squared_error(previsao1_osa_df['previsao1_osa'], previsao1_osa_df['obs_test']))\n",
    "\n",
    "#MAPE previsão 1 com one step ahead (osa)\n",
    "MAPE_pred1_osa = round(mean_absolute_error(previsao1_osa_df['previsao1_osa'], previsao1_osa_df['obs_test']))\n",
    "\n",
    "#Acrescentando na tabela de erros\n",
    "erros_df = erros_df.append({'Previsão': '1 diff OSA', 'MSE': MSE_pred1_osa, 'MAPE':MAPE_pred1_osa}, ignore_index = True)\n",
    "erros_df"
   ]
  },
  {
   "cell_type": "markdown",
   "id": "1566336f-ac40-4526-ab79-e5f20bec3c93",
   "metadata": {},
   "source": [
    "### Série com 2 diferenciações"
   ]
  },
  {
   "cell_type": "markdown",
   "id": "367f7e12-f974-4ba9-b832-df7bffdf0a23",
   "metadata": {
    "tags": []
   },
   "source": [
    "#### (1) Identificação:"
   ]
  },
  {
   "cell_type": "markdown",
   "id": "0771ab0d-822d-4c78-9a16-00236bd25908",
   "metadata": {},
   "source": [
    "##### Função de Autocorrelação e Função de Autocorrelação Parcial"
   ]
  },
  {
   "cell_type": "code",
   "execution_count": 48,
   "id": "78e676e1-eebb-478c-8939-49db2a265ef9",
   "metadata": {},
   "outputs": [
    {
     "data": {
      "image/png": "[encoded data removed]",
      "text/plain": [
       "<Figure size 1152x720 with 2 Axes>"
      ]
     },
     "metadata": {
      "needs_background": "light"
     },
     "output_type": "display_data"
    }
   ],
   "source": [
    "acf_pacf(train.milhoes_tons.diff().diff().dropna(), 16)"
   ]
  },
  {
   "cell_type": "markdown",
   "id": "0bb69e27-3c29-454c-828b-ef4c041be07e",
   "metadata": {},
   "source": [
    "##### Escolha do parâmetro (d):\n",
    "\n",
    "Avaliando a quantidade de diferenciações"
   ]
  },
  {
   "cell_type": "code",
   "execution_count": 49,
   "id": "54159d30-11ea-4601-9959-85aca15907d3",
   "metadata": {},
   "outputs": [],
   "source": [
    "arima_d = 2"
   ]
  },
  {
   "cell_type": "markdown",
   "id": "710f6e37-fb0a-4bd2-a625-ad65a801afcd",
   "metadata": {},
   "source": [
    "##### Escolha do parâmetro (p):\n",
    "\n",
    "Avaliando FACP (Partial Autocorrelation)"
   ]
  },
  {
   "cell_type": "code",
   "execution_count": 50,
   "id": "ee641850-3d1f-4d1e-b8a2-a99b677b85b3",
   "metadata": {},
   "outputs": [],
   "source": [
    "arima_p = 0"
   ]
  },
  {
   "cell_type": "markdown",
   "id": "97796c3d-d912-462d-93a2-19afa2ce1444",
   "metadata": {},
   "source": [
    "##### Escolha do parâmetro (q):\n",
    "\n",
    "Avaliando FAC (Autocorrelation)"
   ]
  },
  {
   "cell_type": "code",
   "execution_count": 51,
   "id": "7fdd3863-28a0-4df3-afd7-09b04d227cd0",
   "metadata": {},
   "outputs": [],
   "source": [
    "arima_q = 0"
   ]
  },
  {
   "cell_type": "markdown",
   "id": "155a6af8-4184-452f-a553-fdabccc01bdf",
   "metadata": {
    "tags": []
   },
   "source": [
    "#### (2.1) Estimação:"
   ]
  },
  {
   "cell_type": "code",
   "execution_count": 52,
   "id": "b016c41e-3a78-4d3d-b2d3-e7840e1bcc34",
   "metadata": {},
   "outputs": [
    {
     "name": "stdout",
     "output_type": "stream",
     "text": [
      "                               SARIMAX Results                                \n",
      "==============================================================================\n",
      "Dep. Variable:           milhoes_tons   No. Observations:                   37\n",
      "Model:                 ARIMA(0, 2, 0)   Log Likelihood                 -68.502\n",
      "Date:                Mon, 03 Oct 2022   AIC                            139.004\n",
      "Time:                        22:12:35   BIC                            140.560\n",
      "Sample:                             0   HQIC                           139.541\n",
      "                                 - 37                                         \n",
      "Covariance Type:                  opg                                         \n",
      "==============================================================================\n",
      "                 coef    std err          z      P>|z|      [0.025      0.975]\n",
      "------------------------------------------------------------------------------\n",
      "sigma2         2.9345      0.602      4.873      0.000       1.754       4.115\n",
      "===================================================================================\n",
      "Ljung-Box (L1) (Q):                   0.53   Jarque-Bera (JB):                 0.75\n",
      "Prob(Q):                              0.47   Prob(JB):                         0.69\n",
      "Heteroskedasticity (H):              13.90   Skew:                             0.05\n",
      "Prob(H) (two-sided):                  0.00   Kurtosis:                         3.71\n",
      "===================================================================================\n",
      "\n",
      "Warnings:\n",
      "[1] Covariance matrix calculated using the outer product of gradients (complex-step).\n"
     ]
    }
   ],
   "source": [
    "model_arima2 = ARIMA(train.milhoes_tons, order=(arima_p, arima_d, arima_q))\n",
    "model_fit2 = model_arima2.fit()\n",
    "print(model_fit2.summary())"
   ]
  },
  {
   "cell_type": "markdown",
   "id": "929d75a6-7293-43e7-a340-78ef5ec096a8",
   "metadata": {},
   "source": [
    "O parametro BIC da serie com 2 diferenciações está melhor do que da série com apenas 1 diferenciação."
   ]
  },
  {
   "cell_type": "markdown",
   "id": "74c67094-acb0-4efc-b0ff-443f50a6412d",
   "metadata": {},
   "source": [
    "#### (2.2) Avaliação/Diagnóstico:"
   ]
  },
  {
   "cell_type": "code",
   "execution_count": 53,
   "id": "ff78270d-7829-4d21-9f0d-a52719e1fcf3",
   "metadata": {},
   "outputs": [
    {
     "data": {
      "image/png": "[encoded data removed]",
      "text/plain": [
       "<Figure size 1152x576 with 4 Axes>"
      ]
     },
     "metadata": {
      "needs_background": "light"
     },
     "output_type": "display_data"
    }
   ],
   "source": [
    "model_fit2.plot_diagnostics(figsize=(16,8));"
   ]
  },
  {
   "cell_type": "markdown",
   "id": "3fc50525-c911-4db1-9afa-b61a3bbf575f",
   "metadata": {},
   "source": [
    "#### (3.1) Previsão:"
   ]
  },
  {
   "cell_type": "code",
   "execution_count": 54,
   "id": "11c902b5-f661-4356-8385-169d52cad929",
   "metadata": {},
   "outputs": [
    {
     "data": {
      "image/png": "[encoded data removed]",
      "text/plain": [
       "<Figure size 1080x432 with 1 Axes>"
      ]
     },
     "metadata": {
      "needs_background": "light"
     },
     "output_type": "display_data"
    },
    {
     "data": {
      "text/plain": [
       "2002    6248.434205\n",
       "2003    6251.576829\n",
       "2004    6254.719454\n",
       "2005    6257.862079\n",
       "2006    6261.004704\n",
       "2007    6264.147329\n",
       "2008    6267.289953\n",
       "2009    6270.432578\n",
       "2010    6273.575203\n",
       "2011    6276.717828\n",
       "2012    6279.860452\n",
       "2013    6283.003077\n",
       "Name: predicted_mean, dtype: float64"
      ]
     },
     "execution_count": 54,
     "metadata": {},
     "output_type": "execute_result"
    }
   ],
   "source": [
    "#previsao = model_fit.predict(start=1965 + 37, end=1965 + 48)\n",
    "previsao2 = model_fit2.predict(start=(len(train)+1965), end=(len(train+test)+1965-1))\n",
    "\n",
    "obs_train = plt.plot(train, color='black', label='Obs (train)')\n",
    "obs_test = plt.plot(test, color='blue', label= 'Obs (test)', linestyle='dotted')#, 'bo') \n",
    "pred = plt.plot(previsao2, color='red', label='Previsão', linestyle='dotted')#, 'bo') \n",
    "\n",
    "plt.legend(loc='best')\n",
    "plt.xlabel(\"Time\")\n",
    "plt.ylabel(\"MVF\")\n",
    "plt.show()\n",
    "previsao2"
   ]
  },
  {
   "cell_type": "code",
   "execution_count": 55,
   "id": "6c141fa2-a673-48a0-b613-8a3183c8d3b6",
   "metadata": {},
   "outputs": [
    {
     "data": {
      "text/html": [
       "<div>\n",
       "<style scoped>\n",
       "    .dataframe tbody tr th:only-of-type {\n",
       "        vertical-align: middle;\n",
       "    }\n",
       "\n",
       "    .dataframe tbody tr th {\n",
       "        vertical-align: top;\n",
       "    }\n",
       "\n",
       "    .dataframe thead th {\n",
       "        text-align: right;\n",
       "    }\n",
       "</style>\n",
       "<table border=\"1\" class=\"dataframe\">\n",
       "  <thead>\n",
       "    <tr style=\"text-align: right;\">\n",
       "      <th></th>\n",
       "      <th>previsao2</th>\n",
       "      <th>obs_test</th>\n",
       "    </tr>\n",
       "  </thead>\n",
       "  <tbody>\n",
       "    <tr>\n",
       "      <th>2002</th>\n",
       "      <td>6248.434205</td>\n",
       "      <td>78.422303</td>\n",
       "    </tr>\n",
       "    <tr>\n",
       "      <th>2003</th>\n",
       "      <td>6251.576829</td>\n",
       "      <td>81.058067</td>\n",
       "    </tr>\n",
       "    <tr>\n",
       "      <th>2004</th>\n",
       "      <td>6254.719454</td>\n",
       "      <td>80.563939</td>\n",
       "    </tr>\n",
       "    <tr>\n",
       "      <th>2005</th>\n",
       "      <td>6257.862079</td>\n",
       "      <td>88.719863</td>\n",
       "    </tr>\n",
       "    <tr>\n",
       "      <th>2006</th>\n",
       "      <td>6261.004704</td>\n",
       "      <td>93.670600</td>\n",
       "    </tr>\n",
       "    <tr>\n",
       "      <th>2007</th>\n",
       "      <td>6264.147329</td>\n",
       "      <td>95.187961</td>\n",
       "    </tr>\n",
       "    <tr>\n",
       "      <th>2008</th>\n",
       "      <td>6267.289953</td>\n",
       "      <td>98.769011</td>\n",
       "    </tr>\n",
       "    <tr>\n",
       "      <th>2009</th>\n",
       "      <td>6270.432578</td>\n",
       "      <td>105.606944</td>\n",
       "    </tr>\n",
       "    <tr>\n",
       "      <th>2010</th>\n",
       "      <td>6273.575203</td>\n",
       "      <td>111.377764</td>\n",
       "    </tr>\n",
       "    <tr>\n",
       "      <th>2011</th>\n",
       "      <td>6276.717828</td>\n",
       "      <td>114.212252</td>\n",
       "    </tr>\n",
       "    <tr>\n",
       "      <th>2012</th>\n",
       "      <td>6279.860452</td>\n",
       "      <td>112.186778</td>\n",
       "    </tr>\n",
       "    <tr>\n",
       "      <th>2013</th>\n",
       "      <td>6283.003077</td>\n",
       "      <td>109.940770</td>\n",
       "    </tr>\n",
       "  </tbody>\n",
       "</table>\n",
       "</div>"
      ],
      "text/plain": [
       "        previsao2    obs_test\n",
       "2002  6248.434205   78.422303\n",
       "2003  6251.576829   81.058067\n",
       "2004  6254.719454   80.563939\n",
       "2005  6257.862079   88.719863\n",
       "2006  6261.004704   93.670600\n",
       "2007  6264.147329   95.187961\n",
       "2008  6267.289953   98.769011\n",
       "2009  6270.432578  105.606944\n",
       "2010  6273.575203  111.377764\n",
       "2011  6276.717828  114.212252\n",
       "2012  6279.860452  112.186778\n",
       "2013  6283.003077  109.940770"
      ]
     },
     "execution_count": 55,
     "metadata": {},
     "output_type": "execute_result"
    },
    {
     "data": {
      "image/png": "[encoded data removed]",
      "text/plain": [
       "<Figure size 1080x432 with 1 Axes>"
      ]
     },
     "metadata": {
      "needs_background": "light"
     },
     "output_type": "display_data"
    }
   ],
   "source": [
    "#pred = model_fit.predict(start=1965 + 37, end=1965 + 48)\n",
    "obs_test = test.values\n",
    "\n",
    "previsao2_df = pd.DataFrame()\n",
    "previsao2_df['previsao2'] = previsao2\n",
    "previsao2_df['obs_test'] = obs_test\n",
    "\n",
    "previsao2_df.plot()\n",
    "previsao2_df"
   ]
  },
  {
   "cell_type": "markdown",
   "id": "ec184a8e-dd38-47d8-a8e2-f4627d5a0626",
   "metadata": {},
   "source": [
    "#### Erros Previsão vs Teste"
   ]
  },
  {
   "cell_type": "code",
   "execution_count": 56,
   "id": "452ce6ae-9cba-496e-907e-49cecabe4c24",
   "metadata": {},
   "outputs": [
    {
     "data": {
      "text/html": [
       "<div>\n",
       "<style scoped>\n",
       "    .dataframe tbody tr th:only-of-type {\n",
       "        vertical-align: middle;\n",
       "    }\n",
       "\n",
       "    .dataframe tbody tr th {\n",
       "        vertical-align: top;\n",
       "    }\n",
       "\n",
       "    .dataframe thead th {\n",
       "        text-align: right;\n",
       "    }\n",
       "</style>\n",
       "<table border=\"1\" class=\"dataframe\">\n",
       "  <thead>\n",
       "    <tr style=\"text-align: right;\">\n",
       "      <th></th>\n",
       "      <th>Previsão</th>\n",
       "      <th>MSE</th>\n",
       "      <th>MAPE</th>\n",
       "    </tr>\n",
       "  </thead>\n",
       "  <tbody>\n",
       "    <tr>\n",
       "      <th>0</th>\n",
       "      <td>1 diff</td>\n",
       "      <td>321</td>\n",
       "      <td>15</td>\n",
       "    </tr>\n",
       "    <tr>\n",
       "      <th>1</th>\n",
       "      <td>1 diff OSA</td>\n",
       "      <td>15</td>\n",
       "      <td>3</td>\n",
       "    </tr>\n",
       "    <tr>\n",
       "      <th>2</th>\n",
       "      <td>2 diff</td>\n",
       "      <td>38047225</td>\n",
       "      <td>6168</td>\n",
       "    </tr>\n",
       "  </tbody>\n",
       "</table>\n",
       "</div>"
      ],
      "text/plain": [
       "     Previsão       MSE  MAPE\n",
       "0      1 diff       321    15\n",
       "1  1 diff OSA        15     3\n",
       "2      2 diff  38047225  6168"
      ]
     },
     "execution_count": 56,
     "metadata": {},
     "output_type": "execute_result"
    }
   ],
   "source": [
    "#MSE previsão 2\n",
    "MSE_pred2 = round(mean_squared_error(previsao2_df['previsao2'], previsao2_df['obs_test']))\n",
    "\n",
    "#MAPE previsão 2\n",
    "MAPE_pred2 = round(mean_absolute_error(previsao2_df['previsao2'], previsao2_df['obs_test']))\n",
    "\n",
    "#Acrescentando na tabela de erros\n",
    "erros_df = erros_df.append({'Previsão': '2 diff', 'MSE': MSE_pred2, 'MAPE':MAPE_pred2}, ignore_index = True)\n",
    "erros_df"
   ]
  },
  {
   "cell_type": "markdown",
   "id": "3d843038-7081-455f-9db1-966753cb500e",
   "metadata": {},
   "source": [
    "#### (3.2) Previsão One step ahead"
   ]
  },
  {
   "cell_type": "code",
   "execution_count": 57,
   "id": "239dd146-1633-4b57-9368-59e2dbdb75f0",
   "metadata": {},
   "outputs": [
    {
     "name": "stdout",
     "output_type": "stream",
     "text": [
      "predicted=73.176496\n",
      "predicted=86.810736\n",
      "predicted=83.693831\n",
      "predicted=80.069811\n",
      "predicted=96.875786\n",
      "predicted=98.621338\n",
      "predicted=96.705322\n",
      "predicted=102.350060\n",
      "predicted=112.444877\n",
      "predicted=117.148584\n",
      "predicted=117.046741\n",
      "predicted=110.161304\n"
     ]
    }
   ],
   "source": [
    "history = [x for x in train.milhoes_tons]\n",
    "predictions2 = list()\n",
    "\n",
    "for t in test.index:\n",
    "    model = ARIMA(history, order=(arima_p, arima_d, arima_q))\n",
    "    model_fit_2 = model.fit()\n",
    "    output = model_fit_2.forecast(alpha=0.05)\n",
    "    yhat = output[0]\n",
    "    predictions2.append(yhat)\n",
    "    obs = float(test.loc[t].values)\n",
    "    history.append(obs)\n",
    "    print('predicted=%f' % (yhat))"
   ]
  },
  {
   "cell_type": "code",
   "execution_count": 58,
   "id": "3601161e-2f3a-4012-957d-5b58223039ff",
   "metadata": {},
   "outputs": [
    {
     "data": {
      "image/png": "[encoded data removed]",
      "text/plain": [
       "<Figure size 1080x432 with 1 Axes>"
      ]
     },
     "metadata": {
      "needs_background": "light"
     },
     "output_type": "display_data"
    }
   ],
   "source": [
    "plt.plot(test.values, color='blue', label='Obs (train)')\n",
    "plt.plot(predictions2, color='red',  label='Previsão')\n",
    "plt.show()"
   ]
  },
  {
   "cell_type": "code",
   "execution_count": 59,
   "id": "2ba5e96c-5db3-4e82-857d-b33c92a6fd16",
   "metadata": {},
   "outputs": [
    {
     "data": {
      "text/html": [
       "<div>\n",
       "<style scoped>\n",
       "    .dataframe tbody tr th:only-of-type {\n",
       "        vertical-align: middle;\n",
       "    }\n",
       "\n",
       "    .dataframe tbody tr th {\n",
       "        vertical-align: top;\n",
       "    }\n",
       "\n",
       "    .dataframe thead th {\n",
       "        text-align: right;\n",
       "    }\n",
       "</style>\n",
       "<table border=\"1\" class=\"dataframe\">\n",
       "  <thead>\n",
       "    <tr style=\"text-align: right;\">\n",
       "      <th></th>\n",
       "      <th>previsao2_osa</th>\n",
       "      <th>obs_test</th>\n",
       "    </tr>\n",
       "  </thead>\n",
       "  <tbody>\n",
       "    <tr>\n",
       "      <th>0</th>\n",
       "      <td>73.176496</td>\n",
       "      <td>78.422303</td>\n",
       "    </tr>\n",
       "    <tr>\n",
       "      <th>1</th>\n",
       "      <td>86.810736</td>\n",
       "      <td>81.058067</td>\n",
       "    </tr>\n",
       "    <tr>\n",
       "      <th>2</th>\n",
       "      <td>83.693831</td>\n",
       "      <td>80.563939</td>\n",
       "    </tr>\n",
       "    <tr>\n",
       "      <th>3</th>\n",
       "      <td>80.069811</td>\n",
       "      <td>88.719863</td>\n",
       "    </tr>\n",
       "    <tr>\n",
       "      <th>4</th>\n",
       "      <td>96.875786</td>\n",
       "      <td>93.670600</td>\n",
       "    </tr>\n",
       "    <tr>\n",
       "      <th>5</th>\n",
       "      <td>98.621338</td>\n",
       "      <td>95.187961</td>\n",
       "    </tr>\n",
       "    <tr>\n",
       "      <th>6</th>\n",
       "      <td>96.705322</td>\n",
       "      <td>98.769011</td>\n",
       "    </tr>\n",
       "    <tr>\n",
       "      <th>7</th>\n",
       "      <td>102.350060</td>\n",
       "      <td>105.606944</td>\n",
       "    </tr>\n",
       "    <tr>\n",
       "      <th>8</th>\n",
       "      <td>112.444877</td>\n",
       "      <td>111.377764</td>\n",
       "    </tr>\n",
       "    <tr>\n",
       "      <th>9</th>\n",
       "      <td>117.148584</td>\n",
       "      <td>114.212252</td>\n",
       "    </tr>\n",
       "    <tr>\n",
       "      <th>10</th>\n",
       "      <td>117.046741</td>\n",
       "      <td>112.186778</td>\n",
       "    </tr>\n",
       "    <tr>\n",
       "      <th>11</th>\n",
       "      <td>110.161304</td>\n",
       "      <td>109.940770</td>\n",
       "    </tr>\n",
       "  </tbody>\n",
       "</table>\n",
       "</div>"
      ],
      "text/plain": [
       "    previsao2_osa    obs_test\n",
       "0       73.176496   78.422303\n",
       "1       86.810736   81.058067\n",
       "2       83.693831   80.563939\n",
       "3       80.069811   88.719863\n",
       "4       96.875786   93.670600\n",
       "5       98.621338   95.187961\n",
       "6       96.705322   98.769011\n",
       "7      102.350060  105.606944\n",
       "8      112.444877  111.377764\n",
       "9      117.148584  114.212252\n",
       "10     117.046741  112.186778\n",
       "11     110.161304  109.940770"
      ]
     },
     "execution_count": 59,
     "metadata": {},
     "output_type": "execute_result"
    }
   ],
   "source": [
    "obs_test = test.values\n",
    "\n",
    "previsao2_osa_df = pd.DataFrame()\n",
    "previsao2_osa_df['previsao2_osa'] = predictions2\n",
    "previsao2_osa_df['obs_test'] = obs_test\n",
    "\n",
    "previsao2_osa_df"
   ]
  },
  {
   "cell_type": "markdown",
   "id": "01449f48-1cd9-4450-929e-e42c9f64cd05",
   "metadata": {},
   "source": [
    "#### Erros Previsão vs Teste"
   ]
  },
  {
   "cell_type": "code",
   "execution_count": 60,
   "id": "c5dc890d-e37c-41ee-8446-441b18f0a020",
   "metadata": {},
   "outputs": [
    {
     "data": {
      "text/html": [
       "<div>\n",
       "<style scoped>\n",
       "    .dataframe tbody tr th:only-of-type {\n",
       "        vertical-align: middle;\n",
       "    }\n",
       "\n",
       "    .dataframe tbody tr th {\n",
       "        vertical-align: top;\n",
       "    }\n",
       "\n",
       "    .dataframe thead th {\n",
       "        text-align: right;\n",
       "    }\n",
       "</style>\n",
       "<table border=\"1\" class=\"dataframe\">\n",
       "  <thead>\n",
       "    <tr style=\"text-align: right;\">\n",
       "      <th></th>\n",
       "      <th>Previsão</th>\n",
       "      <th>MSE</th>\n",
       "      <th>MAPE</th>\n",
       "    </tr>\n",
       "  </thead>\n",
       "  <tbody>\n",
       "    <tr>\n",
       "      <th>0</th>\n",
       "      <td>1 diff</td>\n",
       "      <td>321</td>\n",
       "      <td>15</td>\n",
       "    </tr>\n",
       "    <tr>\n",
       "      <th>1</th>\n",
       "      <td>1 diff OSA</td>\n",
       "      <td>15</td>\n",
       "      <td>3</td>\n",
       "    </tr>\n",
       "    <tr>\n",
       "      <th>2</th>\n",
       "      <td>2 diff</td>\n",
       "      <td>38047225</td>\n",
       "      <td>6168</td>\n",
       "    </tr>\n",
       "    <tr>\n",
       "      <th>3</th>\n",
       "      <td>2 diff OSA</td>\n",
       "      <td>18</td>\n",
       "      <td>4</td>\n",
       "    </tr>\n",
       "  </tbody>\n",
       "</table>\n",
       "</div>"
      ],
      "text/plain": [
       "     Previsão       MSE  MAPE\n",
       "0      1 diff       321    15\n",
       "1  1 diff OSA        15     3\n",
       "2      2 diff  38047225  6168\n",
       "3  2 diff OSA        18     4"
      ]
     },
     "execution_count": 60,
     "metadata": {},
     "output_type": "execute_result"
    }
   ],
   "source": [
    "#MSE previsão 2 com one step ahead (osa)\n",
    "MSE_pred2_osa = round(mean_squared_error(previsao2_osa_df['previsao2_osa'], previsao2_osa_df['obs_test']))\n",
    "\n",
    "#MAPE previsão 2 com one step ahead (osa)\n",
    "MAPE_pred2_osa = round(mean_absolute_error(previsao2_osa_df['previsao2_osa'], previsao2_osa_df['obs_test']))\n",
    "\n",
    "#Acrescentando na tabela de erros\n",
    "erros_df = erros_df.append({'Previsão': '2 diff OSA', 'MSE': MSE_pred2_osa, 'MAPE':MAPE_pred2_osa}, ignore_index = True)\n",
    "erros_df"
   ]
  },
  {
   "cell_type": "code",
   "execution_count": 61,
   "id": "84c527a0-afb3-4fe3-80dc-de874684ea6f",
   "metadata": {},
   "outputs": [],
   "source": [
    "#Deletar linha acrescentada de forma errada no dataframe\n",
    "#erros_df.drop([3], axis = 0, inplace = True)\n",
    "#erros_df"
   ]
  },
  {
   "cell_type": "markdown",
   "id": "b56b6a08-a54f-4261-9721-91fd6e7b687d",
   "metadata": {},
   "source": [
    "### Utilizando o Auto Arima"
   ]
  },
  {
   "cell_type": "markdown",
   "id": "88296568-d1b9-41e3-9cf2-65583ae73ff1",
   "metadata": {
    "tags": []
   },
   "source": [
    "#### (1) Identificação:"
   ]
  },
  {
   "cell_type": "markdown",
   "id": "03667498-9520-4a86-942e-7732a91193c0",
   "metadata": {
    "tags": []
   },
   "source": [
    "##### Escolha dos parametros p,d,q"
   ]
  },
  {
   "cell_type": "code",
   "execution_count": 62,
   "id": "eca44844-a54e-402b-9903-f9fb935d8459",
   "metadata": {},
   "outputs": [
    {
     "name": "stdout",
     "output_type": "stream",
     "text": [
      "Performing stepwise search to minimize bic\n",
      " ARIMA(2,2,2)(0,0,0)[0] intercept   : BIC=inf, Time=0.52 sec\n",
      " ARIMA(0,2,0)(0,0,0)[0] intercept   : BIC=230.948, Time=0.02 sec\n",
      " ARIMA(1,2,0)(0,0,0)[0] intercept   : BIC=232.108, Time=0.07 sec\n",
      " ARIMA(0,2,1)(0,0,0)[0] intercept   : BIC=229.584, Time=0.05 sec\n",
      " ARIMA(0,2,0)(0,0,0)[0]             : BIC=227.133, Time=0.03 sec\n",
      " ARIMA(1,2,1)(0,0,0)[0] intercept   : BIC=inf, Time=0.29 sec\n",
      "\n",
      "Best model:  ARIMA(0,2,0)(0,0,0)[0]          \n",
      "Total fit time: 0.989 seconds\n"
     ]
    }
   ],
   "source": [
    "model_auto_arima = auto_arima(df, max_p = 5 , max_q = 5, max_d = 2, \n",
    "                         max_P = 2, max_Q = 2, max_D = 2, m = 12, \n",
    "                         seasonal = False, trace = True, information_criterion = 'bic', \n",
    "                         stepwise = True)"
   ]
  },
  {
   "cell_type": "markdown",
   "id": "53f1b3f8-b2cf-4558-8bc6-00f9e0779c72",
   "metadata": {
    "tags": []
   },
   "source": [
    "#### (2.1) Estimação:"
   ]
  },
  {
   "cell_type": "code",
   "execution_count": 63,
   "id": "fa7a54ba-9583-496c-a802-25e2d7c7835b",
   "metadata": {},
   "outputs": [
    {
     "name": "stdout",
     "output_type": "stream",
     "text": [
      "                               SARIMAX Results                                \n",
      "==============================================================================\n",
      "Dep. Variable:           milhoes_tons   No. Observations:                   37\n",
      "Model:                 ARIMA(0, 2, 0)   Log Likelihood                 -68.502\n",
      "Date:                Mon, 03 Oct 2022   AIC                            139.004\n",
      "Time:                        22:12:45   BIC                            140.560\n",
      "Sample:                             0   HQIC                           139.541\n",
      "                                 - 37                                         \n",
      "Covariance Type:                  opg                                         \n",
      "==============================================================================\n",
      "                 coef    std err          z      P>|z|      [0.025      0.975]\n",
      "------------------------------------------------------------------------------\n",
      "sigma2         2.9345      0.602      4.873      0.000       1.754       4.115\n",
      "===================================================================================\n",
      "Ljung-Box (L1) (Q):                   0.53   Jarque-Bera (JB):                 0.75\n",
      "Prob(Q):                              0.47   Prob(JB):                         0.69\n",
      "Heteroskedasticity (H):              13.90   Skew:                             0.05\n",
      "Prob(H) (two-sided):                  0.00   Kurtosis:                         3.71\n",
      "===================================================================================\n",
      "\n",
      "Warnings:\n",
      "[1] Covariance matrix calculated using the outer product of gradients (complex-step).\n"
     ]
    }
   ],
   "source": [
    "model_autoarima = ARIMA(train.milhoes_tons, order = model_auto_arima.order)\n",
    "arima_fit = model_autoarima.fit()\n",
    "print(arima_fit.summary())"
   ]
  },
  {
   "cell_type": "markdown",
   "id": "bd508676-0345-4399-8c28-bfac92ec8783",
   "metadata": {},
   "source": [
    "#### (2.2) Avaliação/Diagnóstico:"
   ]
  },
  {
   "cell_type": "code",
   "execution_count": 64,
   "id": "642e34bb-3d40-4ae7-a784-dc451724597f",
   "metadata": {},
   "outputs": [
    {
     "data": {
      "image/png": "[encoded data removed]",
      "text/plain": [
       "<Figure size 1152x576 with 4 Axes>"
      ]
     },
     "metadata": {
      "needs_background": "light"
     },
     "output_type": "display_data"
    }
   ],
   "source": [
    "arima_fit.plot_diagnostics(figsize=(16,8));"
   ]
  },
  {
   "cell_type": "markdown",
   "id": "422e0fdd-8666-4383-a007-0c67b38654e3",
   "metadata": {},
   "source": [
    "#### (3) Previsão:"
   ]
  },
  {
   "cell_type": "code",
   "execution_count": 65,
   "id": "ad31a329-8584-4f34-b2d6-5e9aeb2b1a13",
   "metadata": {},
   "outputs": [
    {
     "data": {
      "image/png": "[encoded data removed]",
      "text/plain": [
       "<Figure size 1080x432 with 1 Axes>"
      ]
     },
     "metadata": {
      "needs_background": "light"
     },
     "output_type": "display_data"
    },
    {
     "data": {
      "text/plain": [
       "2002    6248.434205\n",
       "2003    6251.576829\n",
       "2004    6254.719454\n",
       "2005    6257.862079\n",
       "2006    6261.004704\n",
       "2007    6264.147329\n",
       "2008    6267.289953\n",
       "2009    6270.432578\n",
       "2010    6273.575203\n",
       "2011    6276.717828\n",
       "2012    6279.860452\n",
       "2013    6283.003077\n",
       "Name: predicted_mean, dtype: float64"
      ]
     },
     "execution_count": 65,
     "metadata": {},
     "output_type": "execute_result"
    }
   ],
   "source": [
    "#previsao = model_fit.predict(start=1965 + 37, end=1965 + 48)\n",
    "prev_arima = arima_fit.predict(start=(len(train)+1965), end=(len(train+test)+1965-1))\n",
    "\n",
    "obs_train = plt.plot(train, color='black', label='Obs (train)')\n",
    "obs_test = plt.plot(test, color='blue', label= 'Obs (test)', linestyle='dotted')#, 'bo') \n",
    "pred = plt.plot(prev_arima, color='red', label='Previsão', linestyle='dotted')#, 'bo') \n",
    "\n",
    "plt.legend(loc='best')\n",
    "plt.xlabel(\"Time\")\n",
    "plt.ylabel(\"MVF\")\n",
    "plt.show()\n",
    "prev_arima"
   ]
  },
  {
   "cell_type": "code",
   "execution_count": 66,
   "id": "bd2a3de6-c3e1-4b12-90ef-c3ee435dbda2",
   "metadata": {},
   "outputs": [
    {
     "data": {
      "text/html": [
       "<div>\n",
       "<style scoped>\n",
       "    .dataframe tbody tr th:only-of-type {\n",
       "        vertical-align: middle;\n",
       "    }\n",
       "\n",
       "    .dataframe tbody tr th {\n",
       "        vertical-align: top;\n",
       "    }\n",
       "\n",
       "    .dataframe thead th {\n",
       "        text-align: right;\n",
       "    }\n",
       "</style>\n",
       "<table border=\"1\" class=\"dataframe\">\n",
       "  <thead>\n",
       "    <tr style=\"text-align: right;\">\n",
       "      <th></th>\n",
       "      <th>prev_arima</th>\n",
       "      <th>obs_test</th>\n",
       "    </tr>\n",
       "  </thead>\n",
       "  <tbody>\n",
       "    <tr>\n",
       "      <th>2002</th>\n",
       "      <td>6248.434205</td>\n",
       "      <td>78.422303</td>\n",
       "    </tr>\n",
       "    <tr>\n",
       "      <th>2003</th>\n",
       "      <td>6251.576829</td>\n",
       "      <td>81.058067</td>\n",
       "    </tr>\n",
       "    <tr>\n",
       "      <th>2004</th>\n",
       "      <td>6254.719454</td>\n",
       "      <td>80.563939</td>\n",
       "    </tr>\n",
       "    <tr>\n",
       "      <th>2005</th>\n",
       "      <td>6257.862079</td>\n",
       "      <td>88.719863</td>\n",
       "    </tr>\n",
       "    <tr>\n",
       "      <th>2006</th>\n",
       "      <td>6261.004704</td>\n",
       "      <td>93.670600</td>\n",
       "    </tr>\n",
       "    <tr>\n",
       "      <th>2007</th>\n",
       "      <td>6264.147329</td>\n",
       "      <td>95.187961</td>\n",
       "    </tr>\n",
       "    <tr>\n",
       "      <th>2008</th>\n",
       "      <td>6267.289953</td>\n",
       "      <td>98.769011</td>\n",
       "    </tr>\n",
       "    <tr>\n",
       "      <th>2009</th>\n",
       "      <td>6270.432578</td>\n",
       "      <td>105.606944</td>\n",
       "    </tr>\n",
       "    <tr>\n",
       "      <th>2010</th>\n",
       "      <td>6273.575203</td>\n",
       "      <td>111.377764</td>\n",
       "    </tr>\n",
       "    <tr>\n",
       "      <th>2011</th>\n",
       "      <td>6276.717828</td>\n",
       "      <td>114.212252</td>\n",
       "    </tr>\n",
       "    <tr>\n",
       "      <th>2012</th>\n",
       "      <td>6279.860452</td>\n",
       "      <td>112.186778</td>\n",
       "    </tr>\n",
       "    <tr>\n",
       "      <th>2013</th>\n",
       "      <td>6283.003077</td>\n",
       "      <td>109.940770</td>\n",
       "    </tr>\n",
       "  </tbody>\n",
       "</table>\n",
       "</div>"
      ],
      "text/plain": [
       "       prev_arima    obs_test\n",
       "2002  6248.434205   78.422303\n",
       "2003  6251.576829   81.058067\n",
       "2004  6254.719454   80.563939\n",
       "2005  6257.862079   88.719863\n",
       "2006  6261.004704   93.670600\n",
       "2007  6264.147329   95.187961\n",
       "2008  6267.289953   98.769011\n",
       "2009  6270.432578  105.606944\n",
       "2010  6273.575203  111.377764\n",
       "2011  6276.717828  114.212252\n",
       "2012  6279.860452  112.186778\n",
       "2013  6283.003077  109.940770"
      ]
     },
     "execution_count": 66,
     "metadata": {},
     "output_type": "execute_result"
    },
    {
     "data": {
      "image/png": "[encoded data removed]",
      "text/plain": [
       "<Figure size 1080x432 with 1 Axes>"
      ]
     },
     "metadata": {
      "needs_background": "light"
     },
     "output_type": "display_data"
    }
   ],
   "source": [
    "#pred = model_fit.predict(start=1965 + 37, end=1965 + 48)\n",
    "obs_test = test.values\n",
    "\n",
    "prev_arima_df = pd.DataFrame()\n",
    "prev_arima_df['prev_arima'] = prev_arima\n",
    "prev_arima_df['obs_test'] = obs_test\n",
    "\n",
    "prev_arima_df.plot()\n",
    "prev_arima_df"
   ]
  },
  {
   "cell_type": "markdown",
   "id": "02f4bae1-9196-408b-af79-dbd040b12658",
   "metadata": {},
   "source": [
    "#### Erros Previsão vs Teste"
   ]
  },
  {
   "cell_type": "code",
   "execution_count": 67,
   "id": "5c0441e7-f4a2-4358-b444-6b3e6b8f3313",
   "metadata": {},
   "outputs": [
    {
     "data": {
      "text/html": [
       "<div>\n",
       "<style scoped>\n",
       "    .dataframe tbody tr th:only-of-type {\n",
       "        vertical-align: middle;\n",
       "    }\n",
       "\n",
       "    .dataframe tbody tr th {\n",
       "        vertical-align: top;\n",
       "    }\n",
       "\n",
       "    .dataframe thead th {\n",
       "        text-align: right;\n",
       "    }\n",
       "</style>\n",
       "<table border=\"1\" class=\"dataframe\">\n",
       "  <thead>\n",
       "    <tr style=\"text-align: right;\">\n",
       "      <th></th>\n",
       "      <th>Previsão</th>\n",
       "      <th>MSE</th>\n",
       "      <th>MAPE</th>\n",
       "    </tr>\n",
       "  </thead>\n",
       "  <tbody>\n",
       "    <tr>\n",
       "      <th>0</th>\n",
       "      <td>1 diff</td>\n",
       "      <td>321</td>\n",
       "      <td>15</td>\n",
       "    </tr>\n",
       "    <tr>\n",
       "      <th>1</th>\n",
       "      <td>1 diff OSA</td>\n",
       "      <td>15</td>\n",
       "      <td>3</td>\n",
       "    </tr>\n",
       "    <tr>\n",
       "      <th>2</th>\n",
       "      <td>2 diff</td>\n",
       "      <td>38047225</td>\n",
       "      <td>6168</td>\n",
       "    </tr>\n",
       "    <tr>\n",
       "      <th>3</th>\n",
       "      <td>2 diff OSA</td>\n",
       "      <td>18</td>\n",
       "      <td>4</td>\n",
       "    </tr>\n",
       "    <tr>\n",
       "      <th>4</th>\n",
       "      <td>Auto Arima</td>\n",
       "      <td>38047225</td>\n",
       "      <td>6168</td>\n",
       "    </tr>\n",
       "  </tbody>\n",
       "</table>\n",
       "</div>"
      ],
      "text/plain": [
       "     Previsão       MSE  MAPE\n",
       "0      1 diff       321    15\n",
       "1  1 diff OSA        15     3\n",
       "2      2 diff  38047225  6168\n",
       "3  2 diff OSA        18     4\n",
       "4  Auto Arima  38047225  6168"
      ]
     },
     "execution_count": 67,
     "metadata": {},
     "output_type": "execute_result"
    }
   ],
   "source": [
    "#MSE previsão utilizando Auto arima\n",
    "MSE_pred_arima = round(mean_squared_error(prev_arima_df['prev_arima'], prev_arima_df['obs_test']))\n",
    "\n",
    "#MAPE previsão utilizando Auto arima\n",
    "MAPE_pred_arima = round(mean_absolute_error(prev_arima_df['prev_arima'], prev_arima_df['obs_test']))\n",
    "\n",
    "#Acrescentando na tabela de erros\n",
    "erros_df = erros_df.append({'Previsão': 'Auto Arima', 'MSE': MSE_pred_arima, 'MAPE':MAPE_pred_arima}, ignore_index = True)\n",
    "erros_df"
   ]
  },
  {
   "cell_type": "markdown",
   "id": "2917e660-6aa2-48c4-8305-fe54b9dac713",
   "metadata": {},
   "source": [
    "#### (3.2) Previsão One step ahead"
   ]
  },
  {
   "cell_type": "code",
   "execution_count": 68,
   "id": "d01db1ed-929e-4206-8ff8-c3dc497087b8",
   "metadata": {},
   "outputs": [
    {
     "name": "stdout",
     "output_type": "stream",
     "text": [
      "predicted=73.176496\n",
      "predicted=86.810736\n",
      "predicted=83.693831\n",
      "predicted=80.069811\n",
      "predicted=96.875786\n",
      "predicted=98.621338\n",
      "predicted=96.705322\n",
      "predicted=102.350060\n",
      "predicted=112.444877\n",
      "predicted=117.148584\n",
      "predicted=117.046741\n",
      "predicted=110.161304\n"
     ]
    }
   ],
   "source": [
    "history = [x for x in train.milhoes_tons]\n",
    "predictionsarima = list()\n",
    "\n",
    "for t in test.index:\n",
    "    model = ARIMA(history, order=(arima_p, arima_d, arima_q))\n",
    "    model_fit_2 = model.fit()\n",
    "    output = model_fit_2.forecast(alpha=0.05)\n",
    "    yhat = output[0]\n",
    "    predictionsarima.append(yhat)\n",
    "    obs = float(test.loc[t].values)\n",
    "    history.append(obs)\n",
    "    print('predicted=%f' % (yhat))"
   ]
  },
  {
   "cell_type": "code",
   "execution_count": 69,
   "id": "a8299d0a-2859-4f77-ab52-f5fc9c4456fd",
   "metadata": {},
   "outputs": [
    {
     "data": {
      "image/png": "[encoded data removed]",
      "text/plain": [
       "<Figure size 1080x432 with 1 Axes>"
      ]
     },
     "metadata": {
      "needs_background": "light"
     },
     "output_type": "display_data"
    }
   ],
   "source": [
    "plt.plot(test.values, color='blue', label='Obs (train)')\n",
    "plt.plot(predictionsarima, color='red',  label='Previsão')\n",
    "plt.show()"
   ]
  },
  {
   "cell_type": "code",
   "execution_count": 70,
   "id": "db5ecf78-418d-4afe-94cf-6630e1a433b3",
   "metadata": {},
   "outputs": [
    {
     "data": {
      "text/html": [
       "<div>\n",
       "<style scoped>\n",
       "    .dataframe tbody tr th:only-of-type {\n",
       "        vertical-align: middle;\n",
       "    }\n",
       "\n",
       "    .dataframe tbody tr th {\n",
       "        vertical-align: top;\n",
       "    }\n",
       "\n",
       "    .dataframe thead th {\n",
       "        text-align: right;\n",
       "    }\n",
       "</style>\n",
       "<table border=\"1\" class=\"dataframe\">\n",
       "  <thead>\n",
       "    <tr style=\"text-align: right;\">\n",
       "      <th></th>\n",
       "      <th>prev_arima_osa</th>\n",
       "      <th>obs_test</th>\n",
       "    </tr>\n",
       "  </thead>\n",
       "  <tbody>\n",
       "    <tr>\n",
       "      <th>0</th>\n",
       "      <td>73.176496</td>\n",
       "      <td>78.422303</td>\n",
       "    </tr>\n",
       "    <tr>\n",
       "      <th>1</th>\n",
       "      <td>86.810736</td>\n",
       "      <td>81.058067</td>\n",
       "    </tr>\n",
       "    <tr>\n",
       "      <th>2</th>\n",
       "      <td>83.693831</td>\n",
       "      <td>80.563939</td>\n",
       "    </tr>\n",
       "    <tr>\n",
       "      <th>3</th>\n",
       "      <td>80.069811</td>\n",
       "      <td>88.719863</td>\n",
       "    </tr>\n",
       "    <tr>\n",
       "      <th>4</th>\n",
       "      <td>96.875786</td>\n",
       "      <td>93.670600</td>\n",
       "    </tr>\n",
       "    <tr>\n",
       "      <th>5</th>\n",
       "      <td>98.621338</td>\n",
       "      <td>95.187961</td>\n",
       "    </tr>\n",
       "    <tr>\n",
       "      <th>6</th>\n",
       "      <td>96.705322</td>\n",
       "      <td>98.769011</td>\n",
       "    </tr>\n",
       "    <tr>\n",
       "      <th>7</th>\n",
       "      <td>102.350060</td>\n",
       "      <td>105.606944</td>\n",
       "    </tr>\n",
       "    <tr>\n",
       "      <th>8</th>\n",
       "      <td>112.444877</td>\n",
       "      <td>111.377764</td>\n",
       "    </tr>\n",
       "    <tr>\n",
       "      <th>9</th>\n",
       "      <td>117.148584</td>\n",
       "      <td>114.212252</td>\n",
       "    </tr>\n",
       "    <tr>\n",
       "      <th>10</th>\n",
       "      <td>117.046741</td>\n",
       "      <td>112.186778</td>\n",
       "    </tr>\n",
       "    <tr>\n",
       "      <th>11</th>\n",
       "      <td>110.161304</td>\n",
       "      <td>109.940770</td>\n",
       "    </tr>\n",
       "  </tbody>\n",
       "</table>\n",
       "</div>"
      ],
      "text/plain": [
       "    prev_arima_osa    obs_test\n",
       "0        73.176496   78.422303\n",
       "1        86.810736   81.058067\n",
       "2        83.693831   80.563939\n",
       "3        80.069811   88.719863\n",
       "4        96.875786   93.670600\n",
       "5        98.621338   95.187961\n",
       "6        96.705322   98.769011\n",
       "7       102.350060  105.606944\n",
       "8       112.444877  111.377764\n",
       "9       117.148584  114.212252\n",
       "10      117.046741  112.186778\n",
       "11      110.161304  109.940770"
      ]
     },
     "execution_count": 70,
     "metadata": {},
     "output_type": "execute_result"
    }
   ],
   "source": [
    "obs_test = test.values\n",
    "\n",
    "prev_arima_osa_df = pd.DataFrame()\n",
    "prev_arima_osa_df['prev_arima_osa'] = predictionsarima\n",
    "prev_arima_osa_df['obs_test'] = obs_test\n",
    "\n",
    "prev_arima_osa_df"
   ]
  },
  {
   "cell_type": "markdown",
   "id": "6c9b40be-91f1-40ab-8610-3709579218da",
   "metadata": {},
   "source": [
    "#### Erros Previsão vs Teste"
   ]
  },
  {
   "cell_type": "code",
   "execution_count": 71,
   "id": "1d79ebb4-7e24-495b-a9b6-de859ece84fb",
   "metadata": {},
   "outputs": [
    {
     "data": {
      "text/html": [
       "<div>\n",
       "<style scoped>\n",
       "    .dataframe tbody tr th:only-of-type {\n",
       "        vertical-align: middle;\n",
       "    }\n",
       "\n",
       "    .dataframe tbody tr th {\n",
       "        vertical-align: top;\n",
       "    }\n",
       "\n",
       "    .dataframe thead th {\n",
       "        text-align: right;\n",
       "    }\n",
       "</style>\n",
       "<table border=\"1\" class=\"dataframe\">\n",
       "  <thead>\n",
       "    <tr style=\"text-align: right;\">\n",
       "      <th></th>\n",
       "      <th>Previsão</th>\n",
       "      <th>MSE</th>\n",
       "      <th>MAPE</th>\n",
       "    </tr>\n",
       "  </thead>\n",
       "  <tbody>\n",
       "    <tr>\n",
       "      <th>0</th>\n",
       "      <td>1 diff</td>\n",
       "      <td>321</td>\n",
       "      <td>15</td>\n",
       "    </tr>\n",
       "    <tr>\n",
       "      <th>1</th>\n",
       "      <td>1 diff OSA</td>\n",
       "      <td>15</td>\n",
       "      <td>3</td>\n",
       "    </tr>\n",
       "    <tr>\n",
       "      <th>2</th>\n",
       "      <td>2 diff</td>\n",
       "      <td>38047225</td>\n",
       "      <td>6168</td>\n",
       "    </tr>\n",
       "    <tr>\n",
       "      <th>3</th>\n",
       "      <td>2 diff OSA</td>\n",
       "      <td>18</td>\n",
       "      <td>4</td>\n",
       "    </tr>\n",
       "    <tr>\n",
       "      <th>4</th>\n",
       "      <td>Auto Arima</td>\n",
       "      <td>38047225</td>\n",
       "      <td>6168</td>\n",
       "    </tr>\n",
       "    <tr>\n",
       "      <th>5</th>\n",
       "      <td>Auto Arima OSA</td>\n",
       "      <td>18</td>\n",
       "      <td>4</td>\n",
       "    </tr>\n",
       "  </tbody>\n",
       "</table>\n",
       "</div>"
      ],
      "text/plain": [
       "         Previsão       MSE  MAPE\n",
       "0          1 diff       321    15\n",
       "1      1 diff OSA        15     3\n",
       "2          2 diff  38047225  6168\n",
       "3      2 diff OSA        18     4\n",
       "4      Auto Arima  38047225  6168\n",
       "5  Auto Arima OSA        18     4"
      ]
     },
     "execution_count": 71,
     "metadata": {},
     "output_type": "execute_result"
    }
   ],
   "source": [
    "#MSE previsão 2 com one step ahead (osa)\n",
    "MSE_pred_arima_osa = round(mean_squared_error(prev_arima_osa_df['prev_arima_osa'], prev_arima_osa_df['obs_test']))\n",
    "\n",
    "#MAPE previsão 2 com one step ahead (osa)\n",
    "MAPE_pred_arima_osa = round(mean_absolute_error(prev_arima_osa_df['prev_arima_osa'], prev_arima_osa_df['obs_test']))\n",
    "\n",
    "#Acrescentando na tabela de erros\n",
    "erros_df = erros_df.append({'Previsão': 'Auto Arima OSA', 'MSE': MSE_pred_arima_osa, 'MAPE':MAPE_pred_arima_osa}, ignore_index = True)\n",
    "erros_df"
   ]
  },
  {
   "cell_type": "markdown",
   "id": "35832bf7-cbe0-49b3-9276-c9b610d91ee7",
   "metadata": {},
   "source": [
    "### Outra aplicação Auto Arima"
   ]
  },
  {
   "cell_type": "code",
   "execution_count": 72,
   "id": "86dd1f78-04d9-44fb-b843-7fc206b39490",
   "metadata": {},
   "outputs": [
    {
     "name": "stdout",
     "output_type": "stream",
     "text": [
      "Performing stepwise search to minimize bic\n",
      " ARIMA(2,2,2)(1,0,1)[12]             : BIC=241.642, Time=0.69 sec\n",
      " ARIMA(0,2,0)(0,0,0)[12]             : BIC=227.133, Time=0.03 sec\n",
      " ARIMA(1,2,0)(1,0,0)[12]             : BIC=232.167, Time=0.07 sec\n",
      " ARIMA(0,2,1)(0,0,1)[12]             : BIC=229.635, Time=0.06 sec\n",
      " ARIMA(0,2,0)(1,0,0)[12]             : BIC=230.964, Time=0.05 sec\n",
      " ARIMA(0,2,0)(0,0,1)[12]             : BIC=230.965, Time=0.07 sec\n",
      " ARIMA(0,2,0)(1,0,1)[12]             : BIC=234.814, Time=0.23 sec\n",
      " ARIMA(1,2,0)(0,0,0)[12]             : BIC=228.317, Time=0.04 sec\n",
      " ARIMA(0,2,1)(0,0,0)[12]             : BIC=225.787, Time=0.05 sec\n",
      " ARIMA(0,2,1)(1,0,0)[12]             : BIC=229.635, Time=0.06 sec\n",
      " ARIMA(0,2,1)(1,0,1)[12]             : BIC=233.481, Time=0.29 sec\n",
      " ARIMA(1,2,1)(0,0,0)[12]             : BIC=226.597, Time=0.11 sec\n",
      " ARIMA(0,2,2)(0,0,0)[12]             : BIC=226.784, Time=0.06 sec\n",
      " ARIMA(1,2,2)(0,0,0)[12]             : BIC=230.409, Time=0.14 sec\n",
      " ARIMA(0,2,1)(0,0,0)[12] intercept   : BIC=229.584, Time=0.05 sec\n",
      "\n",
      "Best model:  ARIMA(0,2,1)(0,0,0)[12]          \n",
      "Total fit time: 2.057 seconds\n"
     ]
    },
    {
     "data": {
      "text/plain": [
       "ARIMA(order=(0, 2, 1), scoring_args={}, seasonal_order=(0, 0, 0, 12),\n",
       "      suppress_warnings=True, with_intercept=False)"
      ]
     },
     "execution_count": 72,
     "metadata": {},
     "output_type": "execute_result"
    }
   ],
   "source": [
    "modelo_autoarima = pm.auto_arima(df, max_p=5 , max_q=5, max_d=2\n",
    "                                 , max_P=2, max_Q=2, max_D=2, m=12\n",
    "                                 , seasonal=True, trace=True, information_criterion='bic'\n",
    "                                 , stepwise=True)\n",
    "modelo_autoarima"
   ]
  },
  {
   "cell_type": "code",
   "execution_count": 73,
   "id": "2c26b84a-f8f8-4dd8-adac-3020c6ab12af",
   "metadata": {},
   "outputs": [
    {
     "data": {
      "image/png": "[encoded data removed]",
      "text/plain": [
       "<Figure size 1080x432 with 4 Axes>"
      ]
     },
     "metadata": {
      "needs_background": "light"
     },
     "output_type": "display_data"
    }
   ],
   "source": [
    "modelo_autoarima.plot_diagnostics();"
   ]
  },
  {
   "cell_type": "code",
   "execution_count": 74,
   "id": "32f62179-00cd-4567-a989-5219d98c303a",
   "metadata": {},
   "outputs": [],
   "source": [
    "model = sm.tsa.statespace.SARIMAX(train,order=(0, 2, 1),seasonal_order=(0,0,0,12))\n",
    "results = model.fit()\n",
    "\n",
    "#df['forecast'] = results.predict(start=(len(train)+1965), end=(len(train+test)+1965-1),dynamic=True)\n",
    "#df[['milhoes_tons','forecast']].plot(figsize=(12,8))"
   ]
  },
  {
   "cell_type": "code",
   "execution_count": 75,
   "id": "66fd4ae9-8701-43c2-85cd-0fb659afe2e2",
   "metadata": {},
   "outputs": [],
   "source": [
    "#arima_model = ARIMA(train, order = model_auto_arima.order).fit()\n",
    "#arima_result = arima_model.apply(test)\n",
    "#arima_result.summary()"
   ]
  },
  {
   "cell_type": "code",
   "execution_count": 76,
   "id": "e7bf3643-163b-4eb2-a08c-6f1519b672e1",
   "metadata": {},
   "outputs": [
    {
     "ename": "SyntaxError",
     "evalue": "invalid syntax (341787733.py, line 9)",
     "output_type": "error",
     "traceback": [
      "\u001b[1;36m  Input \u001b[1;32mIn [76]\u001b[1;36m\u001b[0m\n\u001b[1;33m    autoarima_df = pd.DataFrame()\u001b[0m\n\u001b[1;37m    ^\u001b[0m\n\u001b[1;31mSyntaxError\u001b[0m\u001b[1;31m:\u001b[0m invalid syntax\n"
     ]
    }
   ],
   "source": [
    "pred = results.predict(start=(len(train)+1965), end=(len(train+test)+1965-1)\n",
    "\n",
    "#autoarima_df = pd.DataFrame(pred, index=test.index, columns=['pred'])\n",
    "#autoarima_df = pd.concat([test, autoarima_df], axis=1)\n",
    "#autoarima_df.plot();\n",
    "\n",
    "obs_test = test.values\n",
    "\n",
    "autoarima_df = pd.DataFrame()\n",
    "autoarima_df['pred'] = pred\n",
    "autoarima_df['obs_test'] = obs_test\n",
    "\n",
    "autoarima_df.plot()\n",
    "autoarima_df"
   ]
  },
  {
   "cell_type": "markdown",
   "id": "53d5bfe6-c816-4211-806b-64ec05c8a5d9",
   "metadata": {},
   "source": [
    "### Conclusão"
   ]
  },
  {
   "cell_type": "markdown",
   "id": "b54a46a9-08a5-4299-854c-4f2eac7e23e0",
   "metadata": {},
   "source": []
  },
  {
   "cell_type": "markdown",
   "id": "9f506900-f7e8-4604-9b88-b63cdc5e6169",
   "metadata": {},
   "source": [
    "## Machine Learning"
   ]
  },
  {
   "cell_type": "markdown",
   "id": "f96eb1fc-b104-4eb6-99a6-2900b1c2ceab",
   "metadata": {},
   "source": [
    "## LIXO"
   ]
  },
  {
   "cell_type": "code",
   "execution_count": null,
   "id": "2ba7298d-d556-46e1-8adf-b84e339e5cf6",
   "metadata": {},
   "outputs": [],
   "source": [
    "#adf = adfuller(df)\n",
    "#print(f'p-valor: {round(adf[1],2)}')"
   ]
  },
  {
   "cell_type": "code",
   "execution_count": null,
   "id": "12e845b5-b7ea-4bb0-86c4-693e368e611e",
   "metadata": {},
   "outputs": [],
   "source": [
    "#df.info()"
   ]
  },
  {
   "cell_type": "code",
   "execution_count": null,
   "id": "88a7f6d0-973c-42cd-9bf6-6842bec93691",
   "metadata": {},
   "outputs": [],
   "source": [
    "#Definindo as variáveis preditoras (X) e a target (y). Ainda não está pegando o bairro.\n",
    "#X = df.iloc[:,1]\n",
    "#y = df.iloc[:,2]"
   ]
  },
  {
   "cell_type": "code",
   "execution_count": null,
   "id": "e7163d4a-ffb0-47bc-bd74-68b68b0f7795",
   "metadata": {},
   "outputs": [],
   "source": [
    "#X_train, X_test, y_train, y_test = sklearn.model_selection.train_test_split(X, y, test_size = 0.2, random_state = 0)\n",
    "#X_train.shape\n",
    "#y_train.shape"
   ]
  },
  {
   "cell_type": "code",
   "execution_count": null,
   "id": "c084a51b-9183-413d-8060-fde248a7ada6",
   "metadata": {},
   "outputs": [],
   "source": [
    "#df['Ano'].value_counts()"
   ]
  },
  {
   "cell_type": "code",
   "execution_count": null,
   "id": "02e731bc-b771-4520-8c4c-227dff494b19",
   "metadata": {},
   "outputs": [],
   "source": [
    "#df['Year'] = df['Year'].astype(str)"
   ]
  },
  {
   "cell_type": "code",
   "execution_count": null,
   "id": "a47272ed-9548-4460-bbc7-3031235c9a89",
   "metadata": {},
   "outputs": [],
   "source": [
    "#df['Year'] = df['Year'].str[0:4]\n",
    "#df"
   ]
  },
  {
   "cell_type": "code",
   "execution_count": null,
   "id": "62b7ccf6-3933-4d45-a85c-5279e5e45c5f",
   "metadata": {},
   "outputs": [],
   "source": [
    "#df['Year'] = df['Year'].astype(int)"
   ]
  },
  {
   "cell_type": "code",
   "execution_count": null,
   "id": "2a288011-fae2-43d0-b365-1ea4d68d400d",
   "metadata": {},
   "outputs": [],
   "source": [
    "#df.info()"
   ]
  },
  {
   "cell_type": "code",
   "execution_count": null,
   "id": "fd9f132f-eaea-471e-bae0-9c1de309ce63",
   "metadata": {},
   "outputs": [],
   "source": [
    "#df.set_index('Year',inplace=True)\n",
    "#df.index=df.index.astype(int)"
   ]
  },
  {
   "cell_type": "markdown",
   "id": "d1fbc522-047d-457f-a88f-93bdc437813d",
   "metadata": {
    "jp-MarkdownHeadingCollapsed": true,
    "tags": []
   },
   "source": [
    "### Eliminação da Tendência por Diferenciação"
   ]
  },
  {
   "cell_type": "code",
   "execution_count": null,
   "id": "1579e504-b00e-4966-92cc-048f0ea0a6ca",
   "metadata": {},
   "outputs": [],
   "source": [
    "df_1ordem = df.diff()\n",
    "plt.plot(df_1ordem, label=\"Diff - 1ª Ordem\")\n",
    "plt.legend(loc='best')\n",
    "plt.show()"
   ]
  },
  {
   "cell_type": "code",
   "execution_count": null,
   "id": "5ab0ba05-90a8-419e-a076-06e86807742e",
   "metadata": {},
   "outputs": [],
   "source": [
    "# A 13a observação será a média das 11 anteriores\n",
    "rolmean12 = df.diff().rolling(window = 12).mean()\n",
    "rolstd12 = df.diff().rolling(window = 12).std()\n",
    "\n",
    "plt.figure(figsize=(7, 5))\n",
    "actual = plt.plot(df['Milimitros'].diff(), color='black', label='Time Series', alpha=0.7)\n",
    "rm_12 = plt.plot(rolmean12, color='red', label='RM_12', linestyle='dotted')#, 'bo') \n",
    "std_12 = plt.plot(rolstd12, color='blue', label='STD_12', linestyle='dashed')#, fmt='2')\n",
    "plt.legend(loc='best')\n",
    "plt.xlabel(\"Time\")\n",
    "plt.ylabel(\"Target\")\n",
    "plt.show()"
   ]
  },
  {
   "cell_type": "code",
   "execution_count": null,
   "id": "51f61ae9-3079-49a2-b2f8-cc048d68d640",
   "metadata": {},
   "outputs": [],
   "source": [
    "plot_acf(df_1ordem, lags=50)\n",
    "plot_pacf(df_1ordem, lags=50)\n",
    "plt.show()"
   ]
  },
  {
   "cell_type": "code",
   "execution_count": null,
   "id": "a7465d5b-fbba-437d-be82-c639fd7fc881",
   "metadata": {},
   "outputs": [],
   "source": [
    "df_decomp_1ordem = tsa.seasonal_decompose(df_1ordem, period=12)\n",
    "df_decomp_1ordem.plot();"
   ]
  },
  {
   "cell_type": "code",
   "execution_count": null,
   "id": "4806b7c4-c255-4625-bf52-8a3ff228586f",
   "metadata": {},
   "outputs": [],
   "source": [
    "#df_logged = df[\"ncasos\"].apply(lambda x : np.log(x))\n",
    "\n",
    "#ax1 = plt.subplot()\n",
    "#df_logged.plot(figsize=(12,4) ,color=\"tab:red\", title=\"Log Transformed Values\", ax=ax1);"
   ]
  },
  {
   "cell_type": "code",
   "execution_count": null,
   "id": "4558e2c2-410a-4a54-ae13-f5f8e3d06658",
   "metadata": {},
   "outputs": [],
   "source": [
    "df_logg = np.log(df)\n",
    "plt.plot(df_logg, label = \"Log - 1ª Ordem\")\n",
    "plt.legend(loc = 'best')\n",
    "plt.show()"
   ]
  },
  {
   "cell_type": "code",
   "execution_count": null,
   "id": "b9c4baa9-2be3-4f87-a813-130f28d86696",
   "metadata": {},
   "outputs": [],
   "source": [
    "rolmean12 = np.log(df).rolling(window = 12).mean()\n",
    "rolstd12 = np.log(df).rolling(window = 12).std()\n",
    "plt.figure(figsize=(7, 5))\n",
    "actual = plt.plot(np.log(df['ncasos']), color='black', label='Time Series', alpha=0.7)\n",
    "rm_12 = plt.plot(rolmean12, color='red', label='RM_12', linestyle='dotted')#, 'bo') \n",
    "std_12 = plt.plot(rolstd12, color='blue', label='STD_12', linestyle='dashed')#, fmt='2')\n",
    "plt.legend(loc='best')\n",
    "plt.xlabel(\"Time\")\n",
    "plt.ylabel(\"Target\")\n",
    "plt.show()"
   ]
  },
  {
   "cell_type": "code",
   "execution_count": null,
   "id": "9d54c868-400b-4b06-b91d-56b9d8bfa8c1",
   "metadata": {},
   "outputs": [],
   "source": [
    "plot_acf(df_logg.dropna(), lags=12, alpha=0.5);\n",
    "plot_pacf(df_logg.dropna(), lags=12, alpha=0.5);"
   ]
  },
  {
   "cell_type": "code",
   "execution_count": null,
   "id": "bd84fb9c-9f6e-4d94-bfcd-321cb735ead2",
   "metadata": {},
   "outputs": [],
   "source": [
    "df_diff_logg = df_logg.diff()\n",
    "plt.plot(df_diff_logg, label=\"Diff - Log - 1ª Ordem\")\n",
    "plt.legend(loc='best')\n",
    "plt.show()"
   ]
  },
  {
   "cell_type": "code",
   "execution_count": null,
   "id": "03cd3e42-abe4-44d4-9a05-1f613861db64",
   "metadata": {},
   "outputs": [],
   "source": [
    "rolmean12 = df_diff_logg.rolling(window = 12).mean()\n",
    "rolstd12 = df_diff_logg.rolling(window = 12).std()\n",
    "plt.figure(figsize=(7, 5))\n",
    "actual = plt.plot(np.log(df_diff_logg['ncasos']), color='black', label='Time Series', alpha=0.7)\n",
    "rm_12 = plt.plot(rolmean12, color='red', label='RM_12', linestyle='dotted')#, 'bo') \n",
    "std_12 = plt.plot(rolstd12, color='blue', label='STD_12', linestyle='dashed')#, fmt='2')\n",
    "plt.legend(loc='best')\n",
    "plt.xlabel(\"Time\")\n",
    "plt.ylabel(\"Target\")\n",
    "plt.show()"
   ]
  },
  {
   "cell_type": "code",
   "execution_count": null,
   "id": "96bc3ca8-3bc7-4340-88c6-17b42178b0f7",
   "metadata": {},
   "outputs": [],
   "source": [
    "#df_logg2 = np.log(df_logg)\n",
    "#plt.plot(df_logg, label = \"Log - 2ª Ordem\")\n",
    "#plt.legend(loc = 'best')\n",
    "#plt.show()"
   ]
  },
  {
   "cell_type": "code",
   "execution_count": null,
   "id": "33d6ffd5-8abf-4e12-82c0-70aa50e21916",
   "metadata": {},
   "outputs": [],
   "source": [
    "#rolmean12 = np.log(df_logg).rolling(window = 12).mean()\n",
    "#rolstd12 = np.log(df_logg).rolling(window = 12).std()\n",
    "#plt.figure(figsize=(7, 5))\n",
    "#actual = plt.plot(np.log(df_logg['ncasos']), color='black', label='Time Series', alpha=0.7)\n",
    "#rm_12 = plt.plot(rolmean12, color='red', label='RM_12', linestyle='dotted')#, 'bo') \n",
    "#std_12 = plt.plot(rolstd12, color='blue', label='STD_12', linestyle='dashed')#, fmt='2')\n",
    "#plt.legend(loc='best')\n",
    "#plt.xlabel(\"Time\")\n",
    "#plt.ylabel(\"Target\")\n",
    "#plt.show()"
   ]
  },
  {
   "cell_type": "code",
   "execution_count": null,
   "id": "a5e03c9f-f214-4c97-835a-caa3b3d27b70",
   "metadata": {},
   "outputs": [],
   "source": [
    "plot_acf(df_diff_logg.dropna(), lags=12, alpha=0.5);\n",
    "plot_pacf(df_diff_logg.dropna(), lags=12, alpha=0.5);"
   ]
  },
  {
   "cell_type": "code",
   "execution_count": null,
   "id": "2c9e4d59-71eb-4158-bfdb-d1fbf56ee25e",
   "metadata": {},
   "outputs": [],
   "source": []
  }
 ],
 "metadata": {
  "kernelspec": {
   "display_name": "Python 3 (ipykernel)",
   "language": "python",
   "name": "python3"
  },
  "language_info": {
   "codemirror_mode": {
    "name": "ipython",
    "version": 3
   },
   "file_extension": ".py",
   "mimetype": "text/x-python",
   "name": "python",
   "nbconvert_exporter": "python",
   "pygments_lexer": "ipython3",
   "version": "3.9.12"
  }
 },
 "nbformat": 4,
 "nbformat_minor": 5
}
